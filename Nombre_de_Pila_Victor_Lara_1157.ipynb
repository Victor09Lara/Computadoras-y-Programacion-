{
  "nbformat": 4,
  "nbformat_minor": 0,
  "metadata": {
    "colab": {
      "name": "Nombre de Pila - Victor Lara - 1157.ipynb",
      "provenance": [],
      "authorship_tag": "ABX9TyNBcc2M58xuzyJPETf+rZSY",
      "include_colab_link": true
    },
    "kernelspec": {
      "name": "python3",
      "display_name": "Python 3"
    },
    "language_info": {
      "name": "python"
    }
  },
  "cells": [
    {
      "cell_type": "markdown",
      "metadata": {
        "id": "view-in-github",
        "colab_type": "text"
      },
      "source": [
        "<a href=\"https://colab.research.google.com/github/Victor09Lara/Computadoras-y-Programacion-/blob/main/Nombre_de_Pila_Victor_Lara_1157.ipynb\" target=\"_parent\"><img src=\"https://colab.research.google.com/assets/colab-badge.svg\" alt=\"Open In Colab\"/></a>"
      ]
    },
    {
      "cell_type": "code",
      "metadata": {
        "colab": {
          "base_uri": "https://localhost:8080/"
        },
        "id": "8w1ATxK17CL0",
        "outputId": "535b95a2-201c-40b0-c4b9-2d0327a7f0c9"
      },
      "source": [
        "print(\"\\n\\tV       V\\n\\t V     V\\n\\t  V   V\\n\\t   V V\\n\\t    V\")\n",
        "print(\"\\n\\tI I I I I\\n\\t    I    \\n\\t    I   \\n\\t    I  \\n\\t    I  \\n\\tI I I I I\")\n",
        "print(\"\\n\\t       CC\\n\\t    CC\\n\\t CC\\n\\t CC\\n\\t    CC\\n\\t       CC\")\n",
        "print(\"\\n\\tT T T T T\\n\\t    T    \\n\\t    T   \\n\\t    T  \\n\\t    T    \\n\\t    T    \")\n",
        "print(\"\\n\\t     O\\n\\t O       O\\n\\tO         O\\n\\tO         O\\n\\t O       O\\n\\t     O\")\n",
        "print(\"\\n\\tR R R R R R\\n\\tR        R\\n\\tR R R R R\\n\\tR    R\\n\\tR      R\\n\\tR         R\")"
      ],
      "execution_count": 1,
      "outputs": [
        {
          "output_type": "stream",
          "name": "stdout",
          "text": [
            "\n",
            "\tV       V\n",
            "\t V     V\n",
            "\t  V   V\n",
            "\t   V V\n",
            "\t    V\n",
            "\n",
            "\tI I I I I\n",
            "\t    I    \n",
            "\t    I   \n",
            "\t    I  \n",
            "\t    I  \n",
            "\tI I I I I\n",
            "\n",
            "\t       CC\n",
            "\t    CC\n",
            "\t CC\n",
            "\t CC\n",
            "\t    CC\n",
            "\t       CC\n",
            "\n",
            "\tT T T T T\n",
            "\t    T    \n",
            "\t    T   \n",
            "\t    T  \n",
            "\t    T    \n",
            "\t    T    \n",
            "\n",
            "\t     O\n",
            "\t O       O\n",
            "\tO         O\n",
            "\tO         O\n",
            "\t O       O\n",
            "\t     O\n",
            "\n",
            "\tR R R R R R\n",
            "\tR        R\n",
            "\tR R R R R\n",
            "\tR    R\n",
            "\tR      R\n",
            "\tR         R\n"
          ]
        }
      ]
    }
  ]
}