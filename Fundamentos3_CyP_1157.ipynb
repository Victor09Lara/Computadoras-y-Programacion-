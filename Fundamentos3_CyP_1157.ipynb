{
  "nbformat": 4,
  "nbformat_minor": 0,
  "metadata": {
    "colab": {
      "name": "Fundamentos3_CyP_1157.ipynb",
      "provenance": [],
      "authorship_tag": "ABX9TyMDuG0U+DTkh1IbsPd7uwG0",
      "include_colab_link": true
    },
    "kernelspec": {
      "name": "python3",
      "display_name": "Python 3"
    },
    "language_info": {
      "name": "python"
    }
  },
  "cells": [
    {
      "cell_type": "markdown",
      "metadata": {
        "id": "view-in-github",
        "colab_type": "text"
      },
      "source": [
        "<a href=\"https://colab.research.google.com/github/Victor09Lara/Computadoras-y-Programacion-/blob/main/Fundamentos3_CyP_1157.ipynb\" target=\"_parent\"><img src=\"https://colab.research.google.com/assets/colab-badge.svg\" alt=\"Open In Colab\"/></a>"
      ]
    },
    {
      "cell_type": "markdown",
      "metadata": {
        "id": "ZemWPA_SFylX"
      },
      "source": [
        "#Repetición:\n",
        "\n",
        "Este tipo de estructura nos permite automatizar la ejecución repetitiva de código mientas ciertas condiciones s cumplan, tenemos 3 variantes de esta estructura en todos los lenguajes de programación:\n",
        "\n",
        "- Desde...hasta (estructura for)\n",
        "- haz mientras (structura While)\n",
        "- haz y luego validaz mientras( estructura Do-While)\n",
        "\n",
        "#For con Phyton\n",
        "```\n",
        "for j in range (10):\n",
        "    print(f\"Hola{j}\")\n",
        "```\n",
        "\n",
        "#For con leng C y/o Java\n",
        "```\n",
        "for(int j=0; j<10; j=j+1){\n",
        "    printf(\"Hola i \\n \", j)\n",
        "}\n",
        "```\n",
        "\n",
        "En todos lo lenguajes de programacion existe un tipo especial de for, conocido como for-each \n",
        "#For-each en Phyton  \n",
        "```\n",
        "for color in colores#\n",
        "    print(f\"Este es el color {color}\")\n",
        "```\n"
      ]
    },
    {
      "cell_type": "code",
      "metadata": {
        "colab": {
          "base_uri": "https://localhost:8080/"
        },
        "id": "ojW45Bx9FQ0x",
        "outputId": "b3962993-c3fd-40b7-e93f-c04e5d5142c8"
      },
      "source": [
        "#Funcion range()\n",
        "#range (<Inicio>,<Stop>, <Incremeto>)\n",
        "x = range (0,10,2)\n",
        "print(x)\n",
        "\n",
        "for j in range(10): #range(0,10) --> 0,1,2,3,4,5,6,7,8,9\n",
        "    print(f\"Hola{j}\")\n",
        "\n",
        "print(\"-.-.-.-.-.\")\n",
        "for j in range(0,10, 2): #range(0,10,2) --> 0,2,4,6,8,\n",
        "    print(f\"Hola{j}\")\n",
        "\n",
        "print(\"-.-.-.-.-.\")\n",
        "frutas=\"uva\", \"aguacate\", \"pera\", \"manzana\", \"sandia\"\n",
        "print(frutas[0])\n",
        "print(frutas[1])\n",
        "print(frutas[2])\n",
        "print(frutas[3])\n",
        "print(frutas[4])\n",
        "\n",
        "print(\"-.-.-.-.-.\")\n",
        "for index in range(5):\n",
        "    print(frutas[index])\n",
        "\n",
        "print(\"-.-.-.-.-.\")\n",
        "for i in range(5):\n",
        "    print(\"+++++\")"
      ],
      "execution_count": 13,
      "outputs": [
        {
          "output_type": "stream",
          "name": "stdout",
          "text": [
            "range(0, 10, 2)\n",
            "Hola0\n",
            "Hola1\n",
            "Hola2\n",
            "Hola3\n",
            "Hola4\n",
            "Hola5\n",
            "Hola6\n",
            "Hola7\n",
            "Hola8\n",
            "Hola9\n",
            "-.-.-.-.-.\n",
            "Hola0\n",
            "Hola2\n",
            "Hola4\n",
            "Hola6\n",
            "Hola8\n",
            "-.-.-.-.-.\n",
            "uva\n",
            "aguacate\n",
            "pera\n",
            "manzana\n",
            "sandia\n",
            "-.-.-.-.-.\n",
            "uva\n",
            "aguacate\n",
            "pera\n",
            "manzana\n",
            "sandia\n",
            "-.-.-.-.-.\n",
            "+++++\n",
            "+++++\n",
            "+++++\n",
            "+++++\n",
            "+++++\n"
          ]
        }
      ]
    },
    {
      "cell_type": "code",
      "metadata": {
        "id": "NePdGMstKiBB"
      },
      "source": [
        ""
      ],
      "execution_count": null,
      "outputs": []
    }
  ]
}