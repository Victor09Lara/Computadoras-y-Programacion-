{
  "nbformat": 4,
  "nbformat_minor": 0,
  "metadata": {
    "colab": {
      "name": "Fundamentos3_CyP_1157.ipynb",
      "provenance": [],
      "authorship_tag": "ABX9TyNqiFOQTQX/VZHTOMSpr3Z4",
      "include_colab_link": true
    },
    "kernelspec": {
      "name": "python3",
      "display_name": "Python 3"
    },
    "language_info": {
      "name": "python"
    }
  },
  "cells": [
    {
      "cell_type": "markdown",
      "metadata": {
        "id": "view-in-github",
        "colab_type": "text"
      },
      "source": [
        "<a href=\"https://colab.research.google.com/github/Victor09Lara/Computadoras-y-Programacion-/blob/main/Fundamentos3_CyP_1157.ipynb\" target=\"_parent\"><img src=\"https://colab.research.google.com/assets/colab-badge.svg\" alt=\"Open In Colab\"/></a>"
      ]
    },
    {
      "cell_type": "markdown",
      "metadata": {
        "id": "ZemWPA_SFylX"
      },
      "source": [
        "#Repetición:\n",
        "\n",
        "Este tipo de estructura nos permite automatizar la ejecución repetitiva de código mientas ciertas condiciones s cumplan, tenemos 3 variantes de esta estructura en todos los lenguajes de programación:\n",
        "\n",
        "- Desde...hasta (estructura for)\n",
        "- haz mientras (structura While)\n",
        "- haz y luego validaz mientras( estructura Do-While)\n",
        "\n",
        "#For con Phyton\n",
        "```\n",
        "for j in range (10):\n",
        "    print(f\"Hola{j}\")\n",
        "```\n",
        "\n",
        "#For con leng C y/o Java\n",
        "```\n",
        "for(int j=0; j<10; j=j+1){\n",
        "    printf(\"Hola i \\n \", j)\n",
        "}\n",
        "```\n",
        "\n",
        "En todos lo lenguajes de programacion existe un tipo especial de for, conocido como for-each \n",
        "#For-each en Phyton  \n",
        "```\n",
        "for color in colores#\n",
        "    print(f\"Este es el color {color}\")\n",
        "```\n"
      ]
    },
    {
      "cell_type": "code",
      "metadata": {
        "colab": {
          "base_uri": "https://localhost:8080/"
        },
        "id": "ojW45Bx9FQ0x",
        "outputId": "b3962993-c3fd-40b7-e93f-c04e5d5142c8"
      },
      "source": [
        "#Funcion range()\n",
        "#range (<Inicio>,<Stop>, <Incremeto>)\n",
        "x = range (0,10,2)\n",
        "print(x)\n",
        "\n",
        "for j in range(10): #range(0,10) --> 0,1,2,3,4,5,6,7,8,9\n",
        "    print(f\"Hola{j}\")\n",
        "\n",
        "print(\"-.-.-.-.-.\")\n",
        "for j in range(0,10, 2): #range(0,10,2) --> 0,2,4,6,8,\n",
        "    print(f\"Hola{j}\")\n",
        "\n",
        "print(\"-.-.-.-.-.\")\n",
        "frutas=\"uva\", \"aguacate\", \"pera\", \"manzana\", \"sandia\"\n",
        "print(frutas[0])\n",
        "print(frutas[1])\n",
        "print(frutas[2])\n",
        "print(frutas[3])\n",
        "print(frutas[4])\n",
        "\n",
        "print(\"-.-.-.-.-.\")\n",
        "for index in range(5):\n",
        "    print(frutas[index])\n",
        "\n",
        "print(\"-.-.-.-.-.\")\n",
        "for i in range(5):\n",
        "    print(\"+++++\")"
      ],
      "execution_count": null,
      "outputs": [
        {
          "output_type": "stream",
          "name": "stdout",
          "text": [
            "range(0, 10, 2)\n",
            "Hola0\n",
            "Hola1\n",
            "Hola2\n",
            "Hola3\n",
            "Hola4\n",
            "Hola5\n",
            "Hola6\n",
            "Hola7\n",
            "Hola8\n",
            "Hola9\n",
            "-.-.-.-.-.\n",
            "Hola0\n",
            "Hola2\n",
            "Hola4\n",
            "Hola6\n",
            "Hola8\n",
            "-.-.-.-.-.\n",
            "uva\n",
            "aguacate\n",
            "pera\n",
            "manzana\n",
            "sandia\n",
            "-.-.-.-.-.\n",
            "uva\n",
            "aguacate\n",
            "pera\n",
            "manzana\n",
            "sandia\n",
            "-.-.-.-.-.\n",
            "+++++\n",
            "+++++\n",
            "+++++\n",
            "+++++\n",
            "+++++\n"
          ]
        }
      ]
    },
    {
      "cell_type": "code",
      "metadata": {
        "id": "NePdGMstKiBB",
        "colab": {
          "base_uri": "https://localhost:8080/"
        },
        "outputId": "61e9bd98-9157-49dc-ed91-2aa950cb1423"
      },
      "source": [
        "for x in range (1,20,1):\n",
        "    print(x)\n",
        "print(\"Fin del programa\")\n",
        "\n",
        "for x in range(19, 0,-1):\n",
        "    print(x)\n",
        "print(\"Fin de Programa\")"
      ],
      "execution_count": 4,
      "outputs": [
        {
          "output_type": "stream",
          "name": "stdout",
          "text": [
            "1\n",
            "2\n",
            "3\n",
            "4\n",
            "5\n",
            "6\n",
            "7\n",
            "8\n",
            "9\n",
            "10\n",
            "11\n",
            "12\n",
            "13\n",
            "14\n",
            "15\n",
            "16\n",
            "17\n",
            "18\n",
            "19\n",
            "Fin del programa\n",
            "19\n",
            "18\n",
            "17\n",
            "16\n",
            "15\n",
            "14\n",
            "13\n",
            "12\n",
            "11\n",
            "10\n",
            "9\n",
            "8\n",
            "7\n",
            "6\n",
            "5\n",
            "4\n",
            "3\n",
            "2\n",
            "1\n",
            "Fin de Programa\n"
          ]
        }
      ]
    },
    {
      "cell_type": "code",
      "metadata": {
        "colab": {
          "base_uri": "https://localhost:8080/"
        },
        "id": "augaXtw5Nsp2",
        "outputId": "7e72a1e0-fa12-44a2-f0b9-7743859ad190"
      },
      "source": [
        "#Ejemplo 3.3\n",
        "CUECER=0\n",
        "NUM=0\n",
        "N=int(input(\"Un valor numerico mayor que 1: \"))\n",
        "\n",
        "for I in range (1, N+1, 1):\n",
        "    N=int(input(\"Un valor numerico mayor que 1: \"))\n",
        "    if N==0:\n",
        "        CUECER+=1\n",
        "print(\"CUECER= \", CRUECER)\n"
      ],
      "execution_count": 8,
      "outputs": [
        {
          "output_type": "stream",
          "name": "stdout",
          "text": [
            "Un valor numerico mayor que 1: 4\n",
            "Un valor numerico mayor que 1: 0\n",
            "Un valor numerico mayor que 1: 0\n",
            "Un valor numerico mayor que 1: 2\n",
            "Un valor numerico mayor que 1: 2\n",
            "CUECER=  2\n"
          ]
        }
      ]
    },
    {
      "cell_type": "code",
      "metadata": {
        "colab": {
          "base_uri": "https://localhost:8080/"
        },
        "id": "uxWrqAzrQ4ed",
        "outputId": "f4cf7880-885e-4915-d8c9-422edd978967"
      },
      "source": [
        "for f in range(1,11): \n",
        "    print(f'7 x {f} = {7 * f}')\n",
        "print(f)"
      ],
      "execution_count": 9,
      "outputs": [
        {
          "output_type": "stream",
          "name": "stdout",
          "text": [
            "7 x 1 = 7\n",
            "7 x 2 = 14\n",
            "7 x 3 = 21\n",
            "7 x 4 = 28\n",
            "7 x 5 = 35\n",
            "7 x 6 = 42\n",
            "7 x 7 = 49\n",
            "7 x 8 = 56\n",
            "7 x 9 = 63\n",
            "7 x 10 = 70\n",
            "10\n"
          ]
        }
      ]
    },
    {
      "cell_type": "code",
      "metadata": {
        "colab": {
          "base_uri": "https://localhost:8080/"
        },
        "id": "NrfNPnFJUczI",
        "outputId": "451a5de0-6c74-463d-a89a-2f726bf347f8"
      },
      "source": [
        "N1=int(input('ingresa un valor entre 1 y 5: '))\n",
        "\n",
        "if N1>0 and N1<6:\n",
        "    N2=int(input(f'ingresa un valor entre el {N1} y 10: '))\n",
        "    if N2>= N1 and N2<11:\n",
        "\n",
        "        for i in range( N1, N2+1):\n",
        "            for j in range(0,11):\n",
        "                print(f\"{i} x {j} = \", i*j)\n",
        "    \n",
        "    else:\n",
        "        print('El valor ingresado no esta dentro del rango')\n",
        "else:\n",
        "    print('El valor ingresado no esta dentro del rango')"
      ],
      "execution_count": 10,
      "outputs": [
        {
          "output_type": "stream",
          "name": "stdout",
          "text": [
            "ingresa un valor entre 1 y 5: 4\n",
            "ingresa un valor entre el 4 y 10: 7\n",
            "4 x 0 =  0\n",
            "4 x 1 =  4\n",
            "4 x 2 =  8\n",
            "4 x 3 =  12\n",
            "4 x 4 =  16\n",
            "4 x 5 =  20\n",
            "4 x 6 =  24\n",
            "4 x 7 =  28\n",
            "4 x 8 =  32\n",
            "4 x 9 =  36\n",
            "4 x 10 =  40\n",
            "5 x 0 =  0\n",
            "5 x 1 =  5\n",
            "5 x 2 =  10\n",
            "5 x 3 =  15\n",
            "5 x 4 =  20\n",
            "5 x 5 =  25\n",
            "5 x 6 =  30\n",
            "5 x 7 =  35\n",
            "5 x 8 =  40\n",
            "5 x 9 =  45\n",
            "5 x 10 =  50\n",
            "6 x 0 =  0\n",
            "6 x 1 =  6\n",
            "6 x 2 =  12\n",
            "6 x 3 =  18\n",
            "6 x 4 =  24\n",
            "6 x 5 =  30\n",
            "6 x 6 =  36\n",
            "6 x 7 =  42\n",
            "6 x 8 =  48\n",
            "6 x 9 =  54\n",
            "6 x 10 =  60\n",
            "7 x 0 =  0\n",
            "7 x 1 =  7\n",
            "7 x 2 =  14\n",
            "7 x 3 =  21\n",
            "7 x 4 =  28\n",
            "7 x 5 =  35\n",
            "7 x 6 =  42\n",
            "7 x 7 =  49\n",
            "7 x 8 =  56\n",
            "7 x 9 =  63\n",
            "7 x 10 =  70\n"
          ]
        }
      ]
    },
    {
      "cell_type": "code",
      "metadata": {
        "colab": {
          "base_uri": "https://localhost:8080/"
        },
        "id": "2WJDH084VbQd",
        "outputId": "e50fb63a-5326-4731-8088-5cb7340eef83"
      },
      "source": [
        "N1=int(input(\"Dame un numero entre 1 y 5: \"))\n",
        "if N1>0 and N<=6:\n",
        "    N2= int(input(f\"Dame un numero entre {N1} y 10: \"))\n",
        "    if N2>= N1 and N2 <=10:\n",
        "        for i in range(N1, N2+1):\n",
        "            for j in range (1,11):\n",
        "                print(f\"{i}x{j}=\",i*j)\n",
        "            print (\"---------\")\n",
        "else: \n",
        "    print(\"Valor fuera de rango entre 1 y 5\")"
      ],
      "execution_count": 19,
      "outputs": [
        {
          "output_type": "stream",
          "name": "stdout",
          "text": [
            "Dame un numero entre 1 y 5: 2\n",
            "Dame un numero entre 2 y 10: 9\n",
            "2x1= 2\n",
            "2x2= 4\n",
            "2x3= 6\n",
            "2x4= 8\n",
            "2x5= 10\n",
            "2x6= 12\n",
            "2x7= 14\n",
            "2x8= 16\n",
            "2x9= 18\n",
            "2x10= 20\n",
            "---------\n",
            "3x1= 3\n",
            "3x2= 6\n",
            "3x3= 9\n",
            "3x4= 12\n",
            "3x5= 15\n",
            "3x6= 18\n",
            "3x7= 21\n",
            "3x8= 24\n",
            "3x9= 27\n",
            "3x10= 30\n",
            "---------\n",
            "4x1= 4\n",
            "4x2= 8\n",
            "4x3= 12\n",
            "4x4= 16\n",
            "4x5= 20\n",
            "4x6= 24\n",
            "4x7= 28\n",
            "4x8= 32\n",
            "4x9= 36\n",
            "4x10= 40\n",
            "---------\n",
            "5x1= 5\n",
            "5x2= 10\n",
            "5x3= 15\n",
            "5x4= 20\n",
            "5x5= 25\n",
            "5x6= 30\n",
            "5x7= 35\n",
            "5x8= 40\n",
            "5x9= 45\n",
            "5x10= 50\n",
            "---------\n",
            "6x1= 6\n",
            "6x2= 12\n",
            "6x3= 18\n",
            "6x4= 24\n",
            "6x5= 30\n",
            "6x6= 36\n",
            "6x7= 42\n",
            "6x8= 48\n",
            "6x9= 54\n",
            "6x10= 60\n",
            "---------\n",
            "7x1= 7\n",
            "7x2= 14\n",
            "7x3= 21\n",
            "7x4= 28\n",
            "7x5= 35\n",
            "7x6= 42\n",
            "7x7= 49\n",
            "7x8= 56\n",
            "7x9= 63\n",
            "7x10= 70\n",
            "---------\n",
            "8x1= 8\n",
            "8x2= 16\n",
            "8x3= 24\n",
            "8x4= 32\n",
            "8x5= 40\n",
            "8x6= 48\n",
            "8x7= 56\n",
            "8x8= 64\n",
            "8x9= 72\n",
            "8x10= 80\n",
            "---------\n",
            "9x1= 9\n",
            "9x2= 18\n",
            "9x3= 27\n",
            "9x4= 36\n",
            "9x5= 45\n",
            "9x6= 54\n",
            "9x7= 63\n",
            "9x8= 72\n",
            "9x9= 81\n",
            "9x10= 90\n",
            "---------\n"
          ]
        }
      ]
    },
    {
      "cell_type": "code",
      "metadata": {
        "colab": {
          "base_uri": "https://localhost:8080/"
        },
        "id": "_Kp4mT_aWuFB",
        "outputId": "21c399a8-e88a-4075-e67d-98f741f86bc4"
      },
      "source": [
        "#Generador de lista \n",
        "numeros=[0, 0, 0, 0, 0]\n",
        "print(numeros)\n",
        "numero= [0 for x in range(5) ]\n",
        "print(numeros)\n",
        "#empleando lavariable x para el valor incial \n",
        "numero= [x for x in range(5) ]\n",
        "print(numeros)\n",
        "\n",
        "numeros=[(x+1)*10 for x in range(10)]\n",
        "print(numeros)\n",
        "print(\"----\")\n",
        "\n"
      ],
      "execution_count": 22,
      "outputs": [
        {
          "output_type": "stream",
          "name": "stdout",
          "text": [
            "[0, 0, 0, 0, 0]\n",
            "[0, 0, 0, 0, 0]\n",
            "[0, 0, 0, 0, 0]\n",
            "[10, 20, 30, 40, 50, 60, 70, 80, 90, 100]\n",
            "----\n"
          ]
        }
      ]
    },
    {
      "cell_type": "code",
      "metadata": {
        "colab": {
          "base_uri": "https://localhost:8080/"
        },
        "id": "An4VikrDYUCL",
        "outputId": "92fdf9ee-7651-485b-f50e-489018f2084b"
      },
      "source": [
        "#Calcular promedio de edades \n",
        "\n",
        "suma=0\n",
        "edades=[0 for x in range(5)]\n",
        "for x in range(5):\n",
        "    edades[x]=int(input(\"Dame una edad: \"))\n",
        "    suma=suma+edades[x]\n",
        "print(edades)\n",
        "print(\"promedio: \", suma/5)\n",
        "\n"
      ],
      "execution_count": 20,
      "outputs": [
        {
          "output_type": "stream",
          "name": "stdout",
          "text": [
            "Dame una edad: 5\n",
            "Dame una edad: 89\n",
            "Dame una edad: 37\n",
            "Dame una edad: 24\n",
            "Dame una edad: 89\n",
            "[5, 89, 37, 24, 89]\n",
            "promedio:  48.8\n"
          ]
        }
      ]
    },
    {
      "cell_type": "code",
      "metadata": {
        "colab": {
          "base_uri": "https://localhost:8080/"
        },
        "id": "GgfFKbE3cNuD",
        "outputId": "3f29858e-b4df-47dd-e346-2dee45ba21a1"
      },
      "source": [
        "import random \n",
        "print(random.random())\n",
        "print(random.uniform(5,11))\n",
        "val= round(random.uniform(5,11),2)\n",
        "print(val)\n",
        "\n",
        "valores= [round(random.uniform(5,11),2) for x in range(20)]\n",
        "print(valores)"
      ],
      "execution_count": 28,
      "outputs": [
        {
          "output_type": "stream",
          "name": "stdout",
          "text": [
            "0.437912584662148\n",
            "8.83834376674656\n",
            "6.94\n",
            "[9.96, 6.43, 6.01, 9.25, 5.17, 6.55, 5.27, 8.32, 8.16, 10.42, 8.72, 6.8, 7.4, 9.07, 9.08, 7.19, 8.97, 9.31, 5.34, 7.8]\n"
          ]
        }
      ]
    }
  ]
}