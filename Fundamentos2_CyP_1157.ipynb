{
  "nbformat": 4,
  "nbformat_minor": 0,
  "metadata": {
    "colab": {
      "name": "Fundamentos2_CyP_1157.ipynb",
      "provenance": [],
      "authorship_tag": "ABX9TyOS1nwslqjA8MVVPyYEJskh",
      "include_colab_link": true
    },
    "kernelspec": {
      "name": "python3",
      "display_name": "Python 3"
    },
    "language_info": {
      "name": "python"
    }
  },
  "cells": [
    {
      "cell_type": "markdown",
      "metadata": {
        "id": "view-in-github",
        "colab_type": "text"
      },
      "source": [
        "<a href=\"https://colab.research.google.com/github/Victor09Lara/Computadoras-y-Programacion-/blob/main/Fundamentos2_CyP_1157.ipynb\" target=\"_parent\"><img src=\"https://colab.research.google.com/assets/colab-badge.svg\" alt=\"Open In Colab\"/></a>"
      ]
    },
    {
      "cell_type": "code",
      "metadata": {
        "id": "DsFLcDFbFUp-"
      },
      "source": [
        ""
      ],
      "execution_count": null,
      "outputs": []
    },
    {
      "cell_type": "markdown",
      "metadata": {
        "id": "ZL1mKQVMFd4S"
      },
      "source": [
        "#Tipos de datos estructurados phyton \n",
        "\n",
        "1. Lista\n",
        "2. Tuplas \n",
        "3. Diccionarios \n",
        "4. Conjutos (opcional)"
      ]
    },
    {
      "cell_type": "markdown",
      "metadata": {
        "id": "JbEdERJNFtNU"
      },
      "source": [
        "#Listas \n",
        "- Tipo de datos que agrupa variables o valores.\n",
        "-Estructura secuencial (undexados empezando por 0)\n",
        "- Se declara de 2 formas \n",
        "  - Usando [ ]\n",
        "  -usando list()\n",
        "  -usando un generador \n",
        "- Puede contener tipos de datos diversos (En otros lenguajes de programacion, eso no es posibles de forma directa) \n",
        "- Los elementos internos se seleccionan con []\n",
        "- Soporta slicing \n",
        "- Son MUTABLES \n",
        "-GENERADORES (var for x in range ())\n",
        "- Al ser una clase contiene muchos metodos utilez \n"
      ]
    },
    {
      "cell_type": "code",
      "metadata": {
        "colab": {
          "base_uri": "https://localhost:8080/"
        },
        "id": "Pa0fnkfPGnVa",
        "outputId": "dc24a7bc-ce39-4168-a563-d0a5758a4797"
      },
      "source": [
        "#Priemera forma de hacer una lista \n",
        "numeros = [10, 5, 2, 3, 1]\n",
        "print(numeros)\n",
        "\n",
        "#Segunda forma de hacer una lista\n",
        "numeros2 = list()\n",
        "numeros2.append(10)\n",
        "numeros2.append(5)\n",
        "numeros2.append(2)\n",
        "numeros2.append(3)\n",
        "numeros2.append(1)\n",
        "print(numeros2)\n",
        "#Son mutables\n",
        "numeros[2] = 20\n",
        "print(numeros)\n",
        "numeros[4]=33\n",
        "print(numeros)\n",
        "\n",
        "numeros.append(88)\n",
        "print(numeros)"
      ],
      "execution_count": 13,
      "outputs": [
        {
          "output_type": "stream",
          "name": "stdout",
          "text": [
            "[10, 5, 2, 3, 1]\n",
            "[10, 5, 2, 3, 1]\n",
            "[10, 5, 20, 3, 1]\n",
            "[10, 5, 20, 3, 33]\n",
            "[10, 5, 20, 3, 33, 88]\n"
          ]
        }
      ]
    },
    {
      "cell_type": "code",
      "metadata": {
        "colab": {
          "base_uri": "https://localhost:8080/"
        },
        "id": "984AEQx7IdjB",
        "outputId": "459a6fab-7abf-4c8c-eb25-d64c11fd6af2"
      },
      "source": [
        "# Tipos diversos \n",
        "cosas = [12, 2, True, \"Jose\", 1.57, ['pera', 'kiwi', 'uva']]\n",
        "print(cosas)\n",
        "print(cosas[1])\n",
        "print(cosas[4])\n",
        "print(cosas[5])\n",
        "print(cosas[5][1])\n",
        "print(cosas[3][1:3:])\n",
        "\n",
        "cosas [3]= cosas[3].upper()\n",
        "print(cosas)"
      ],
      "execution_count": 14,
      "outputs": [
        {
          "output_type": "stream",
          "name": "stdout",
          "text": [
            "[12, 2, True, 'Jose', 1.57, ['pera', 'kiwi', 'uva']]\n",
            "2\n",
            "1.57\n",
            "['pera', 'kiwi', 'uva']\n",
            "kiwi\n",
            "os\n",
            "[12, 2, True, 'JOSE', 1.57, ['pera', 'kiwi', 'uva']]\n"
          ]
        }
      ]
    },
    {
      "cell_type": "code",
      "metadata": {
        "colab": {
          "base_uri": "https://localhost:8080/"
        },
        "id": "CYuiyPCqL2af",
        "outputId": "c45757ef-04cd-4d31-a514-c12e7d0ce634"
      },
      "source": [
        "numeros= [1,2,3,4,5,6,7,8,9,10,11]\n",
        "print(numeros)\n",
        "\n",
        "#slicing\n",
        "#1.- 4 al 8?\n",
        "print(numeros[3:8])\n",
        "\n",
        "#2: [9, 10]\n",
        "print(numeros[8:10])\n",
        "print(numeros[-3:-1])\n",
        "\n",
        "#3.- Imprimir de modo inverso [11, 10, 9,...]\n",
        "print(numeros[::-1])\n",
        "\n"
      ],
      "execution_count": 21,
      "outputs": [
        {
          "output_type": "stream",
          "name": "stdout",
          "text": [
            "[1, 2, 3, 4, 5, 6, 7, 8, 9, 10, 11]\n",
            "[4, 5, 6, 7, 8]\n",
            "[9, 10]\n",
            "[9, 10]\n",
            "[11, 10, 9, 8, 7, 6, 5, 4, 3, 2, 1]\n"
          ]
        }
      ]
    },
    {
      "cell_type": "code",
      "metadata": {
        "colab": {
          "base_uri": "https://localhost:8080/"
        },
        "id": "7iNmvIPVPqDM",
        "outputId": "2fc8dd16-77e9-4088-a608-ad36a8a84a83"
      },
      "source": [
        "#Crear una lista con un generador \n",
        "numeros =[ x*3 for x in range(101)]\n",
        "print(numeros)"
      ],
      "execution_count": 25,
      "outputs": [
        {
          "output_type": "stream",
          "name": "stdout",
          "text": [
            "[0, 3, 6, 9, 12, 15, 18, 21, 24, 27, 30, 33, 36, 39, 42, 45, 48, 51, 54, 57, 60, 63, 66, 69, 72, 75, 78, 81, 84, 87, 90, 93, 96, 99, 102, 105, 108, 111, 114, 117, 120, 123, 126, 129, 132, 135, 138, 141, 144, 147, 150, 153, 156, 159, 162, 165, 168, 171, 174, 177, 180, 183, 186, 189, 192, 195, 198, 201, 204, 207, 210, 213, 216, 219, 222, 225, 228, 231, 234, 237, 240, 243, 246, 249, 252, 255, 258, 261, 264, 267, 270, 273, 276, 279, 282, 285, 288, 291, 294, 297, 300]\n"
          ]
        }
      ]
    },
    {
      "cell_type": "markdown",
      "metadata": {
        "id": "p4LTACFwQXuK"
      },
      "source": [
        "#Funcion rango range()\n",
        "tiene los mismos componentes que slicing\n",
        "\n",
        "ini, stop, incremento \n",
        "range (1, 101, 1)"
      ]
    },
    {
      "cell_type": "code",
      "metadata": {
        "colab": {
          "base_uri": "https://localhost:8080/"
        },
        "id": "g_Z9RLm9QvHh",
        "outputId": "5fa0ba2d-b60c-4f31-fda2-4142cdfaf33e"
      },
      "source": [
        "numeros=[x for x in range(50,101, 1)]\n",
        "print(numeros)"
      ],
      "execution_count": 28,
      "outputs": [
        {
          "output_type": "stream",
          "name": "stdout",
          "text": [
            "[50, 51, 52, 53, 54, 55, 56, 57, 58, 59, 60, 61, 62, 63, 64, 65, 66, 67, 68, 69, 70, 71, 72, 73, 74, 75, 76, 77, 78, 79, 80, 81, 82, 83, 84, 85, 86, 87, 88, 89, 90, 91, 92, 93, 94, 95, 96, 97, 98, 99, 100]\n"
          ]
        }
      ]
    },
    {
      "cell_type": "markdown",
      "metadata": {
        "id": "ZOd-4FqNRKsI"
      },
      "source": [
        "#Metodos disponibles de una lista \n"
      ]
    },
    {
      "cell_type": "code",
      "metadata": {
        "colab": {
          "base_uri": "https://localhost:8080/"
        },
        "id": "u0BBWEFQRQWL",
        "outputId": "fb6c6b6c-ad2b-4788-ec20-1dc145e7851b"
      },
      "source": [
        "dir(list)"
      ],
      "execution_count": 29,
      "outputs": [
        {
          "output_type": "execute_result",
          "data": {
            "text/plain": [
              "['__add__',\n",
              " '__class__',\n",
              " '__contains__',\n",
              " '__delattr__',\n",
              " '__delitem__',\n",
              " '__dir__',\n",
              " '__doc__',\n",
              " '__eq__',\n",
              " '__format__',\n",
              " '__ge__',\n",
              " '__getattribute__',\n",
              " '__getitem__',\n",
              " '__gt__',\n",
              " '__hash__',\n",
              " '__iadd__',\n",
              " '__imul__',\n",
              " '__init__',\n",
              " '__init_subclass__',\n",
              " '__iter__',\n",
              " '__le__',\n",
              " '__len__',\n",
              " '__lt__',\n",
              " '__mul__',\n",
              " '__ne__',\n",
              " '__new__',\n",
              " '__reduce__',\n",
              " '__reduce_ex__',\n",
              " '__repr__',\n",
              " '__reversed__',\n",
              " '__rmul__',\n",
              " '__setattr__',\n",
              " '__setitem__',\n",
              " '__sizeof__',\n",
              " '__str__',\n",
              " '__subclasshook__',\n",
              " 'append',\n",
              " 'clear',\n",
              " 'copy',\n",
              " 'count',\n",
              " 'extend',\n",
              " 'index',\n",
              " 'insert',\n",
              " 'pop',\n",
              " 'remove',\n",
              " 'reverse',\n",
              " 'sort']"
            ]
          },
          "metadata": {},
          "execution_count": 29
        }
      ]
    },
    {
      "cell_type": "code",
      "metadata": {
        "colab": {
          "base_uri": "https://localhost:8080/"
        },
        "id": "-iEZxQr1SZlv",
        "outputId": "84e79dd1-5bcf-4313-bc04-6a4620fefa37"
      },
      "source": [
        "numeros=[4,1,15, 8, 22, 34, 50]\n",
        "print(numeros)\n",
        "numeros.append(99)\n",
        "print(numeros)\n",
        "numeros.clear()\n",
        "print(numeros)\n",
        "#numeros.clear()\n",
        "numeros =[ ]\n",
        "print(numeros)\n",
        "\n",
        "frutas= [\"Uvas\", \"Kiwi\", \"Manzana\"]\n",
        "copia=frutas \n",
        "print(frutas)\n",
        "print(copia)\n",
        "frutas.append(\"Naranjas\")\n",
        "print(frutas)\n",
        "print(copia)\n",
        "\n",
        "\n",
        "colores= [\"rojo\", \"azul\", \"blanco\"]\n",
        "copia2 =colores.copy()\n",
        "print(colores)\n",
        "print(copia2)\n",
        "colores.append(\"verde\")\n",
        "print (colores)\n",
        "print(copia2)\n",
        "\n",
        "print(\"Numeros de veces que aparece el 15= \", numeros.count(15))\n",
        "\n",
        "nombres=[\"jose\", \"pedro\", \"karina\"]\n",
        "otrosNombres =[\"josue\", \"dania\", \"dalia\"]\n",
        "\n",
        "print(nombres)\n",
        "print(otrosNombres)\n",
        "nombres = nombres + otrosNombres\n",
        "print(nombres)\n",
        "print(otrosNombres)\n",
        "\n",
        "otrosNombres.extend([\"Jesus\", \"Maria\", \"jose\"])\n",
        "print(otrosNombres)\n",
        "\n",
        "print(\"Jesus esta en la posicion: \", otrosNombres.index(\"Jesus\"))\n",
        "otrosNombres.insert(4, \"Espiritu Santo\")\n",
        "print(otrosNombres)\n",
        "\n",
        "#pop\n",
        "resultado = otrosNombres.pop()\n",
        "print(otrosNombres)\n",
        "print(resultado)"
      ],
      "execution_count": 49,
      "outputs": [
        {
          "output_type": "stream",
          "name": "stdout",
          "text": [
            "[4, 1, 15, 8, 22, 34, 50]\n",
            "[4, 1, 15, 8, 22, 34, 50, 99]\n",
            "[]\n",
            "[]\n",
            "['Uvas', 'Kiwi', 'Manzana']\n",
            "['Uvas', 'Kiwi', 'Manzana']\n",
            "['Uvas', 'Kiwi', 'Manzana', 'Naranjas']\n",
            "['Uvas', 'Kiwi', 'Manzana', 'Naranjas']\n",
            "['rojo', 'azul', 'blanco']\n",
            "['rojo', 'azul', 'blanco']\n",
            "['rojo', 'azul', 'blanco', 'verde']\n",
            "['rojo', 'azul', 'blanco']\n",
            "Numeros de veces que aparece el 15=  0\n",
            "['jose', 'pedro', 'karina']\n",
            "['josue', 'dania', 'dalia']\n",
            "['jose', 'pedro', 'karina', 'josue', 'dania', 'dalia']\n",
            "['josue', 'dania', 'dalia']\n",
            "['josue', 'dania', 'dalia', 'Jesus', 'Maria', 'jose']\n",
            "Jesus esta en la posicion:  3\n",
            "['josue', 'dania', 'dalia', 'Jesus', 'Espiritu Santo', 'Maria', 'jose']\n",
            "['josue', 'dania', 'dalia', 'Jesus', 'Espiritu Santo', 'Maria']\n",
            "jose\n"
          ]
        }
      ]
    }
  ]
}