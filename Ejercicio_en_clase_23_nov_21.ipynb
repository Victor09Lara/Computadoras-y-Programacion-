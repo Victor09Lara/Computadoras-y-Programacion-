{
  "nbformat": 4,
  "nbformat_minor": 0,
  "metadata": {
    "colab": {
      "name": "Ejercicio en clase 23-nov-21.ipynb",
      "provenance": [],
      "authorship_tag": "ABX9TyPCiv4epU/aO3+8uACPfE9G",
      "include_colab_link": true
    },
    "kernelspec": {
      "name": "python3",
      "display_name": "Python 3"
    },
    "language_info": {
      "name": "python"
    }
  },
  "cells": [
    {
      "cell_type": "markdown",
      "metadata": {
        "id": "view-in-github",
        "colab_type": "text"
      },
      "source": [
        "<a href=\"https://colab.research.google.com/github/Victor09Lara/Computadoras-y-Programacion-/blob/main/Ejercicio_en_clase_23_nov_21.ipynb\" target=\"_parent\"><img src=\"https://colab.research.google.com/assets/colab-badge.svg\" alt=\"Open In Colab\"/></a>"
      ]
    },
    {
      "cell_type": "code",
      "metadata": {
        "id": "u3OWv7XhM6zk"
      },
      "source": [
        "int(\"Teclea 3 numeros, para que se puedan acomodar de maner acendente\")\n",
        "A=int(input(\"Teclea un numero: \"))\n",
        "B=int(input(\"Teclea un segundo numero: \"))\n",
        "C=int(input(\"Teclea un tercer numero: \"))\n",
        "\n",
        "\n",
        "if A>B:\n",
        "    if A>C:\n",
        "        if B>C:\n",
        "            print(f\"{A}, {B}, {C}\")\n",
        "        else:\n",
        "            print(f\"{A}, {C}, {B}\")\n",
        "    else:\n",
        "        print(f\"{C}, {A}, {B}\")\n",
        "else: \n",
        "    if B>C:\n",
        "        if A>C:\n",
        "            print(f\"{B}, {A}, {C}\")\n",
        "        else: \n",
        "            print(f\"{B}, {C}, {A}\")\n",
        "    else: \n",
        "        print(f\"{C}, {B}, {A}\")\n",
        "print(\"Find del Programa\")"
      ],
      "execution_count": null,
      "outputs": []
    }
  ]
}