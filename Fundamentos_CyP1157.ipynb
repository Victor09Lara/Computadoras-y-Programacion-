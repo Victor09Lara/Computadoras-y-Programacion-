{
  "nbformat": 4,
  "nbformat_minor": 0,
  "metadata": {
    "colab": {
      "name": "Fundamentos CyP1157.ipynb",
      "provenance": [],
      "authorship_tag": "ABX9TyNwTruFl7BQl4q2tuupTfmg",
      "include_colab_link": true
    },
    "kernelspec": {
      "name": "python3",
      "display_name": "Python 3"
    },
    "language_info": {
      "name": "python"
    }
  },
  "cells": [
    {
      "cell_type": "markdown",
      "metadata": {
        "id": "view-in-github",
        "colab_type": "text"
      },
      "source": [
        "<a href=\"https://colab.research.google.com/github/Victor09Lara/Computadoras-y-Programacion-/blob/main/Fundamentos_CyP1157.ipynb\" target=\"_parent\"><img src=\"https://colab.research.google.com/assets/colab-badge.svg\" alt=\"Open In Colab\"/></a>"
      ]
    },
    {
      "cell_type": "markdown",
      "metadata": {
        "id": "R7z71sH23NE8"
      },
      "source": [
        "Fecha 14 de octubre de 2021"
      ]
    },
    {
      "cell_type": "code",
      "metadata": {
        "colab": {
          "base_uri": "https://localhost:8080/"
        },
        "id": "OklliAFlVeWk",
        "outputId": "d10c404d-1436-46ee-c8e6-1f1aaab75a0b"
      },
      "source": [
        "nombre = 'Jose' # Tipo de datos String (cadena de caracteres)\n",
        "print(nombre)"
      ],
      "execution_count": null,
      "outputs": [
        {
          "output_type": "stream",
          "name": "stdout",
          "text": [
            "Jose\n"
          ]
        }
      ]
    },
    {
      "cell_type": "markdown",
      "metadata": {
        "id": "lbwQLDIUXNM6"
      },
      "source": [
        "# Tipo de datos en Phyton\n",
        "### Tipos Simples \n",
        "- str --> String cadena de carateres \n",
        "- int --> Numeros Enteros \n",
        "- float --> Numeros con Notacion Punto Flotante \n",
        "- complex --> Numeros Complejos \n",
        "- bool --> Verdadero o Falso \n",
        "- byte --> 8 bits\n",
        "### Tipos de Datos Estructurados (Compuestos) \n",
        "- list --> Lista (Arreglos en otros Len)\n",
        "- dict --> diccionario\n",
        "- set y fronzenset --> Conjuntos \n",
        "- tuple --> Listas No Mutables "
      ]
    },
    {
      "cell_type": "code",
      "metadata": {
        "colab": {
          "base_uri": "https://localhost:8080/"
        },
        "id": "_ib-GTeDaSO4",
        "outputId": "5f9ae919-858b-4111-e7a5-33c6f4b47754"
      },
      "source": [
        "import sys\n",
        "edad= 19\n",
        "print(\"Tu edad es:\", edad)\n",
        "#este es un cometario de linea simple \n",
        "\"\"\"\n",
        "Cometario de Multiple linea \n",
        "\"\"\"\n",
        "#Tipos de datos numericos int float\n",
        "print(sys.getsizeof(edad))\n",
        "# el tipo de dato int utiliza diferentes cantidades de bytes segun el lenguaje\n",
        "#de progrmacion\n",
        "edad= edad+1\n",
        "\n",
        "print(edad)\n",
        "estatura= 1.56\n",
        "print(sys.getsizeof(estatura))\n",
        "estatura =estatura+0.1\n",
        "print(estatura)\n",
        "print(round(estatura,2))\n",
        "\n",
        "edad+=1 #edad = edad +1\n",
        "print(\"Tu edad es:\", edad)\n",
        "\n",
        "edad-=1 # edad = edad - 1\n",
        "print(\"Tu edad es:\", edad)\n",
        "\n",
        "edad+=1 # edad = edad+1/2\n",
        "edad /=2\n",
        "print(\"La mitad de tu edad es:\", edad)\n",
        "\n",
        "edad=21\n",
        "#volver a calcular la mitad de la edad para solo dejar la parte entera \n",
        "edad= edad //2 # Obliga a hacer la division en entero \n",
        "print(\"La mitad de tu edad es:\", edad)\n",
        "# en la mayoria de los leng no permite operaciones entre \n",
        "# entre diferentes tipos de datos, en phyton \n",
        "\n",
        "numero = edad/2.0\n",
        "print(numero)\n",
        "\n",
        "numero = numero*3 # simplificacion numero*3= \n",
        "print(numero)\n",
        "\n",
        "numero = 5.0 \n",
        "numero =numero**2 # lo eleva con una potencia # simplificacion numero**=2\n",
        "print(numero)\n",
        "\n",
        "#operador modulo\n",
        "numero= 21 \n",
        "print(numero/2) #print(numero//2) para entero \n",
        "#operador modulo, da el residuo de una division entera\n",
        "print(numero % 2)\n",
        "\n",
        "numero= 24\n",
        "print(\"Residuo de 24/5:\", numero % 5)\n",
        "\n",
        "\n",
        "#operadores relacionales (logicos)\n",
        "print(\"24 es par?\",numero %2 == 0)\n",
        "\n",
        "#Diferencia \n",
        "print(\"24 es diferente de 23\",numero != 23) \n",
        "print(\"24 es mayor que 23\", numero > 23) \n",
        "print(\"24 es menor que 23\", numero < 23) \n",
        "\n",
        "print(\"24 es mayor igual que 23\", numero >= 24) \n",
        "print(\"24 es menor igual que 23\", numero <= 23)\n",
        "\n",
        "print(\" El tipo de dato de la var numero es:\", type(numero))\n",
        "print(\" El tipo de dato de la var 2.0 numero es:\", type(numero/2.0))"
      ],
      "execution_count": null,
      "outputs": [
        {
          "output_type": "stream",
          "name": "stdout",
          "text": [
            "Tu edad es: 19\n",
            "28\n",
            "20\n",
            "24\n",
            "1.6600000000000001\n",
            "1.66\n",
            "Tu edad es: 21\n",
            "Tu edad es: 20\n",
            "La mitad de tu edad es: 10.5\n",
            "La mitad de tu edad es: 10\n",
            "5.0\n",
            "15.0\n",
            "25.0\n",
            "10.5\n",
            "1\n",
            "Residuo de 24/5: 4\n",
            "24 es par? True\n",
            "24 es diferente de 23 True\n",
            "24 es mayor que 23 True\n",
            "24 es menor que 23 False\n",
            "24 es mayor igual que 23 True\n",
            "24 es menor igual que 23 False\n",
            " El tipo de dato de la var numero es: <class 'int'>\n",
            " El tipo de dato de la var 2.0 numero es: <class 'float'>\n"
          ]
        }
      ]
    },
    {
      "cell_type": "markdown",
      "metadata": {
        "id": "LEwQhZNlpkP-"
      },
      "source": [
        "#Tipo de dato String\n",
        "- Se maneja como un (tipo de dato compuesto)\n",
        "- Se puede acceder a los elementos del String por medio del indice del caracter \n",
        "- Mutable\n",
        "- Tiene metodos utilez (potentes)\n",
        "- Cuestiones de Slicing \n"
      ]
    },
    {
      "cell_type": "code",
      "metadata": {
        "colab": {
          "base_uri": "https://localhost:8080/"
        },
        "id": "tVKQwKdeqFqN",
        "outputId": "50820753-7188-4e8c-eed8-98d9caedef9c"
      },
      "source": [
        "nombre ='Jose' #palabra simple, usar ''\n",
        "carrera =\"Ingenieria en Computacion\" #palabras con mas carateres, usar \"\" \n",
        "frase = \"\"\"El conocimiento me persigue....\n",
        ", pero \n",
        "yo soy mas rapido \n",
        "\"\"\" #con mas palabras, usar \"\"\"\"\n",
        "\n",
        "print (nombre)\n",
        "print(carrera)\n",
        "print(frase)\n",
        " #La funcion type, devuelve el tipo de dato de una variable \n",
        "print (type(nombre)) \n",
        "\n",
        "paterno = str(\"Perez\")\n",
        "print(paterno)"
      ],
      "execution_count": null,
      "outputs": [
        {
          "output_type": "stream",
          "name": "stdout",
          "text": [
            "Jose\n",
            "Ingenieria en Computacion\n",
            "El conocimiento me persigue....\n",
            ", pero \n",
            "yo soy mas rapido \n",
            "\n",
            "<class 'str'>\n",
            "Perez\n"
          ]
        }
      ]
    },
    {
      "cell_type": "markdown",
      "metadata": {
        "id": "lSO-gp0ApIJv"
      },
      "source": [
        "Una clase (class) es u tipo de dato compuesto."
      ]
    },
    {
      "cell_type": "code",
      "metadata": {
        "colab": {
          "base_uri": "https://localhost:8080/"
        },
        "id": "ogf7unvVpSmq",
        "outputId": "9fb48136-0bef-4ab1-8333-be6351ecb1e5"
      },
      "source": [
        "carrera =\"Ingenieria en Computacion\"\n",
        "print(carrera)\n",
        "print (carrera [2])"
      ],
      "execution_count": 2,
      "outputs": [
        {
          "output_type": "stream",
          "name": "stdout",
          "text": [
            "Ingenieria en Computacion\n",
            "g\n"
          ]
        }
      ]
    },
    {
      "cell_type": "markdown",
      "metadata": {
        "id": "HaD4nOEJrr3D"
      },
      "source": [
        "#A la sisntaxis escrita para elegir un elemento de datos, llamado selector \n",
        "En el caso de String y listas (list) se usan los caracteres '['y']'\n",
        "1. Todos los arreglos empiezan en 0\n",
        "2. En Phyton no existe el dato arreglo, el concepto es sustituido por las listas \n",
        "3. Los String se comportan como arreglos en la mayoria de los lenguajes de programacion \n",
        "4. En Python acepta el indexado negativo, en otros Lenguajes No."
      ]
    },
    {
      "cell_type": "code",
      "metadata": {
        "colab": {
          "base_uri": "https://localhost:8080/"
        },
        "id": "55wJZl1Ystvq",
        "outputId": "addab200-5c1c-457e-a64b-c91f08bb6974"
      },
      "source": [
        "carrera=\"Ingenieria en Computacion\"\n",
        "print(carrera[8]) #'[]'para buscar la letra de un texto, y un numero donde se encuantra la letra \n",
        "print(carrera[24])\n",
        "print(carrera[-1])\n",
        "print(carrera[-25])\n",
        "\n",
        "\n",
        "#Adelantando el tema del ciclo FOR\n",
        "for letra in carrera:\n",
        "  print(\"-->\",letra ,\"<--\" )"
      ],
      "execution_count": 8,
      "outputs": [
        {
          "output_type": "stream",
          "name": "stdout",
          "text": [
            "i\n",
            "n\n",
            "n\n",
            "I\n",
            "--> I <--\n",
            "--> n <--\n",
            "--> g <--\n",
            "--> e <--\n",
            "--> n <--\n",
            "--> i <--\n",
            "--> e <--\n",
            "--> r <--\n",
            "--> i <--\n",
            "--> a <--\n",
            "-->   <--\n",
            "--> e <--\n",
            "--> n <--\n",
            "-->   <--\n",
            "--> C <--\n",
            "--> o <--\n",
            "--> m <--\n",
            "--> p <--\n",
            "--> u <--\n",
            "--> t <--\n",
            "--> a <--\n",
            "--> c <--\n",
            "--> i <--\n",
            "--> o <--\n",
            "--> n <--\n"
          ]
        }
      ]
    },
    {
      "cell_type": "markdown",
      "metadata": {
        "id": "fDXRTfrHu6cP"
      },
      "source": [
        "#Slincing (rebanando) de cadena \n",
        "Permite selccionar subcadenas con el operador \n",
        "#### [inicio : stop : incremento] \n",
        "El estop no se incluye, es por eso que debemos poner una posicion extra\n",
        "### Slicing y valores por defecto\n",
        "el inicio por defecto siempre sera 0\n",
        "stop: el tamaño de arreglo en un (indexado positivo) y sera 0 en un (indexado negativo)\n",
        "Incremento 1 (es indexado positivo)"
      ]
    },
    {
      "cell_type": "code",
      "metadata": {
        "colab": {
          "base_uri": "https://localhost:8080/"
        },
        "id": "C8EgwJSbvWFb",
        "outputId": "87c6e90d-041c-4049-cc05-a4e4dfddc836"
      },
      "source": [
        "carrera=\"Ingenieria en Computacion\"\n",
        "print (carrera[0:10:1])\n",
        "print (carrera[14:25:1])\n",
        "#lo mismo pero con indexado negativo\n",
        "\n",
        "print (carrera[-12:-1:1])\n",
        "\n",
        "print (carrera[:10:])\n",
        "print (carrera[14:25:])\n",
        "print (carrera[-11::1]) #podemos omitir valores por defecto \n",
        "\n",
        "#Ejercicio mas para incremento \n",
        "print (carrera[0:10:2]) # saltos desde el inicio al stop \n",
        "print (carrera[-1:-12:-1]) # para que diga la palabra alreves \n",
        "print (carrera[25:13:-1]) #otra forma \n",
        "\n"
      ],
      "execution_count": 17,
      "outputs": [
        {
          "output_type": "stream",
          "name": "stdout",
          "text": [
            "Ingenieria\n",
            "Computacion\n",
            " Computacio\n",
            "Ingenieria\n",
            "Computacion\n",
            "Computacion\n",
            "Ignei\n",
            "noicatupmoC\n",
            "noicatupmoC\n"
          ]
        }
      ]
    },
    {
      "cell_type": "markdown",
      "metadata": {
        "id": "9D4oZVij0jGl"
      },
      "source": [
        "#String y sus metodos\n",
        "#Todos los tipos de datos en Phyton son objetos (clases de la programacion orientada a objetos) \n",
        "###Lo caul tiene atributos y metodos\n",
        "#dir() y help() funciones para tener atyuda del lenguaje Phyton\n",
        "### dir muestra las funciones de un tipo de dato como resumen \n",
        "### help muestra la misma ayuda, pero con detalle \n",
        "Metodos que inician con doble guion bajo, no deberiamos usarlos \n",
        "Todos los demas son de uso exterios (usuario)\n"
      ]
    },
    {
      "cell_type": "code",
      "metadata": {
        "colab": {
          "base_uri": "https://localhost:8080/"
        },
        "id": "R-ax_KoX0-3z",
        "outputId": "8126f374-387d-4252-8e77-3f0e946a0f49"
      },
      "source": [
        "frutas= \" limon ,fresa, manzana , aguacate \"\n",
        "nombre='jose'\n",
        "print (frutas)\n",
        "dir(frutas) #metodos de la programacion orientada a objetos\n",
        "\n",
        "print(nombre.capitalize()) #poner () parentesis abierto y cerrado\n",
        "print (nombre.upper()) #cambiar a MAYUSCULAS\n",
        "print(frutas.replace('a','4').replace('e','3').upper()) #Cambiar una letra por algo\n",
        "frutas = frutas.replace('a','4').replace('e','3').upper() #para combios permantenentes asiganarles otra vez frutas \n",
        "print(frutas)\n",
        "dir(str)\n",
        "\n",
        "frutas= \" limon , fresa, manzana , aguacate \"\n",
        "print(frutas.strip()) #strip quita la basura de enfrete y atras, quita espacios \n",
        "print(frutas.split(',')) # Separa por espacio, sin asiganrle nada, en split().  \n",
        "#Pero le puede poner el criterio de separacion (',')\n",
        "print(frutas.index('n')) \n"
      ],
      "execution_count": 40,
      "outputs": [
        {
          "output_type": "stream",
          "name": "stdout",
          "text": [
            " limon ,fresa, manzana , aguacate \n",
            "Jose\n",
            "JOSE\n",
            " LIMON ,FR3S4, M4NZ4N4 , 4GU4C4T3 \n",
            " LIMON ,FR3S4, M4NZ4N4 , 4GU4C4T3 \n",
            "limon , fresa, manzana , aguacate\n",
            "[' limon ', ' fresa', ' manzana ', ' aguacate ']\n",
            "5\n"
          ]
        }
      ]
    },
    {
      "cell_type": "markdown",
      "metadata": {
        "id": "K8BP0C6W8Z1e"
      },
      "source": [
        "#String y caracteres de escape \n",
        "\"Jose\" \n",
        "- \\\" --> \"\n",
        "- \\' --> '\n",
        "- \\n --> salto de linea \n",
        "- \\t --> tabulador a la izquierda \n",
        "- \\uxxxx --> Caracter unicode\n",
        "- \\Uxxxxxxxx --> Unicode extendido"
      ]
    },
    {
      "cell_type": "code",
      "metadata": {
        "colab": {
          "base_uri": "https://localhost:8080/"
        },
        "id": "-6M8IIkd8YBL",
        "outputId": "4c2f5aec-8097-48a3-a556-80aca00f2813"
      },
      "source": [
        "print(\"\\\"jose\\\"\") # se utiliza \\ para que no tome en cuenta las \" \", es para que\n",
        "#se tome como caracter \n",
        "nombre= \"\\\"jose\\\"\"\n",
        "print(nombre)\n",
        "\n",
        "carrera= \"Ingenieria \\n\\ten \\n\\t\\tComputacion \"\n",
        "print(carrera)"
      ],
      "execution_count": 44,
      "outputs": [
        {
          "output_type": "stream",
          "name": "stdout",
          "text": [
            "\"jose\"\n",
            "\"jose\"\n",
            "Ingenieria \n",
            "\ten \n",
            "\t\tComputacion \n"
          ]
        }
      ]
    }
  ]
}