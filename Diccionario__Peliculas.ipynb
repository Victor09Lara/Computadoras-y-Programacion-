{
  "nbformat": 4,
  "nbformat_minor": 0,
  "metadata": {
    "colab": {
      "name": "Diccionario_ Peliculas.ipynb",
      "provenance": [],
      "authorship_tag": "ABX9TyNGomOyRp9wWjrqhFa4W0Ug",
      "include_colab_link": true
    },
    "kernelspec": {
      "name": "python3",
      "display_name": "Python 3"
    },
    "language_info": {
      "name": "python"
    }
  },
  "cells": [
    {
      "cell_type": "markdown",
      "metadata": {
        "id": "view-in-github",
        "colab_type": "text"
      },
      "source": [
        "<a href=\"https://colab.research.google.com/github/Victor09Lara/Computadoras-y-Programacion-/blob/main/Diccionario__Peliculas.ipynb\" target=\"_parent\"><img src=\"https://colab.research.google.com/assets/colab-badge.svg\" alt=\"Open In Colab\"/></a>"
      ]
    },
    {
      "cell_type": "code",
      "metadata": {
        "id": "skNGc9RLJoIk"
      },
      "source": [
        "peliciula = {\"terror\":\"El Conjuro\", \"accion\":{\"super heroes\":[\"Iron Man\", \"Capitan America\"]}, \"Anime\": \"Mi vecino Totoro\", \"Aventura\": \"Indiana Jones\", \"Animada\":\"Spidervers\"\n",
        "             \n",
        "             \n",
        "             }"
      ],
      "execution_count": null,
      "outputs": []
    }
  ]
}