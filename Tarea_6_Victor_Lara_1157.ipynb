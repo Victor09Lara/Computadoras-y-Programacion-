{
  "nbformat": 4,
  "nbformat_minor": 0,
  "metadata": {
    "colab": {
      "name": "Tarea 6 - Victor Lara - 1157.ipynb",
      "provenance": [],
      "collapsed_sections": [],
      "authorship_tag": "ABX9TyPlQZt80947vhE0K40JVw+8",
      "include_colab_link": true
    },
    "kernelspec": {
      "name": "python3",
      "display_name": "Python 3"
    },
    "language_info": {
      "name": "python"
    },
    "accelerator": "GPU"
  },
  "cells": [
    {
      "cell_type": "markdown",
      "metadata": {
        "id": "view-in-github",
        "colab_type": "text"
      },
      "source": [
        "<a href=\"https://colab.research.google.com/github/Victor09Lara/Computadoras-y-Programacion-/blob/main/Tarea_6_Victor_Lara_1157.ipynb\" target=\"_parent\"><img src=\"https://colab.research.google.com/assets/colab-badge.svg\" alt=\"Open In Colab\"/></a>"
      ]
    },
    {
      "cell_type": "markdown",
      "metadata": {
        "id": "AKBntPoziyuz"
      },
      "source": [
        "#Realizar los ejercicios del libro Metodología de la Programación el ejercicio  2.1 al 2.13\n",
        "Nombre: Victor Manuel Lara Hernandez \n",
        "Grupo: 1157 \n",
        "\n"
      ]
    },
    {
      "cell_type": "code",
      "metadata": {
        "colab": {
          "base_uri": "https://localhost:8080/"
        },
        "id": "XxOXksJAit8X",
        "outputId": "a83de355-889c-4bd1-d9e8-71ce5c558f19"
      },
      "source": [
        "#Ejercicio 2.1 \n",
        "N=int(input(\"Teclea el numero de sonidos que emite un grillo en un minuto, para determinar la temperatura: \"))\n",
        "T=0\n",
        "\n",
        "if N>0:\n",
        "    T=(N/4)+40\n",
        "    print(\"Temperatura:\",T, \"grados Fahrenheit\")\n",
        "print(\"Fin del programa\")"
      ],
      "execution_count": null,
      "outputs": [
        {
          "output_type": "stream",
          "name": "stdout",
          "text": [
            "Teclea el numero de sonidos que emite un grillo en un minuto, para determinar la temperatura: 8\n",
            "Temperatura: 42.0 grados Fahrenheit\n",
            "Fin del programa\n"
          ]
        }
      ]
    },
    {
      "cell_type": "code",
      "metadata": {
        "colab": {
          "base_uri": "https://localhost:8080/"
        },
        "id": "D57x7vmUkVPj",
        "outputId": "7cadeef1-f5b1-4b11-d6a9-116deb189d1a"
      },
      "source": [
        "#Ejercicio 2.2 \n",
        "P=int(input(\"Teclea un primer numero entero: \"))\n",
        "Q=int(input(\"Teclea un segundo numero entero: \"))\n",
        "EXP=P**3+Q**4-2*P**2\n",
        "\n",
        "if EXP<680:\n",
        "    print(f\"{P},{Q}\")\n",
        "print(\"Fin del progrma\")"
      ],
      "execution_count": null,
      "outputs": [
        {
          "output_type": "stream",
          "name": "stdout",
          "text": [
            "Teclea un primer numero entero: 3\n",
            "Teclea un segundo numero entero: 5\n",
            "3,5\n",
            "Fin del progrma\n"
          ]
        }
      ]
    },
    {
      "cell_type": "code",
      "metadata": {
        "id": "4wVwgo2qmYlK",
        "colab": {
          "base_uri": "https://localhost:8080/"
        },
        "outputId": "a21d260b-37af-4098-f53b-1827e6260220"
      },
      "source": [
        "#Ejercicio 2.3 \n",
        "print(\"Teclea 3 numeros, para clacular las raices reales\")\n",
        "A=float(input(\"Teclea un primer numero: \"))\n",
        "B=float(input(\"Teclea un segundo numero: \"))\n",
        "C=float(input(\"Teclea un tercer numero: \"))\n",
        "DIS=B**2-4*A*C \n",
        "x1=0\n",
        "x2=0\n",
        "\n",
        "if DIS>=0:\n",
        "    x1=((-B)+DIS**0.5)/(2*A)\n",
        "    x2=((-B)-DIS**0.5)/(2*A)\n",
        "    print(f\"Raices reales {x1} y {x2}\")\n",
        "print(\"Fin del programa\")\n",
        "\n"
      ],
      "execution_count": null,
      "outputs": [
        {
          "output_type": "stream",
          "name": "stdout",
          "text": [
            "Teclea 3 numeros, para clacular las raices reales\n",
            "Teclea un primer numero: 3\n",
            "Teclea un segundo numero: 9\n",
            "Teclea un tercer numero: 1.5\n",
            "Raices reales -0.17712434446770464 y -2.8228756555322954\n",
            "Fin del programa\n"
          ]
        }
      ]
    },
    {
      "cell_type": "code",
      "metadata": {
        "id": "VWUYaBgT-QlF",
        "colab": {
          "base_uri": "https://localhost:8080/"
        },
        "outputId": "43fdd56e-69d7-47b6-98ec-be5eb5cc2eaf"
      },
      "source": [
        "#Ejercicio 2.4\n",
        "print(\"Teclea tu matricula y tus calificaciones para determinar tu promedio. \")\n",
        "MAT=int(input(\"Teclea tu numero de matricula: \"))\n",
        "CAL1=float(input(\"Teclea tu primer calificacion: \"))\n",
        "CAL2=float(input(\"Teclea tu segunda calificacion: \"))\n",
        "CAL3=float(input(\"Teclea tu tercera calificacion: \"))\n",
        "CAL4=float(input(\"Teclea tu cuarta calificacion: \"))\n",
        "CAL5=float(input(\"Teclea tu quinta calificacion: \"))\n",
        "\n",
        "PRO=(CAL1+CAL2+CAL3+CAL4+CAL5)/5\n",
        "\n",
        "if PRO>=6:\n",
        "    print(f\"{MAT}, {PRO} Aprobado\")\n",
        "else: \n",
        "    print(f\"{MAT}, {PRO} Reprobado\")\n",
        "\n",
        "print(\"Fin del programa\")"
      ],
      "execution_count": null,
      "outputs": [
        {
          "output_type": "stream",
          "name": "stdout",
          "text": [
            "Teclea tu matricula y tus calificaciones para determinar tu promedio. \n",
            "Teclea tu numero de matricula: 16500\n",
            "Teclea tu primer calificacion: 6\n",
            "Teclea tu segunda calificacion: 7.50\n",
            "Teclea tu tercera calificacion: 8\n",
            "Teclea tu cuarta calificacion: 9.50\n",
            "Teclea tu quinta calificacion: 7\n",
            "16500, 7.6 Aprobado\n",
            "Fin del programa\n"
          ]
        }
      ]
    },
    {
      "cell_type": "code",
      "metadata": {
        "colab": {
          "base_uri": "https://localhost:8080/"
        },
        "id": "5KtFMaTM5WzQ",
        "outputId": "472beafc-682d-484c-acfe-44e10a8886ad"
      },
      "source": [
        "#Ejercicio 2.5 \n",
        "print(\"Teclea un numero entero, para verificar si se trata de un numero positivo, negativo o nulo.\")\n",
        "NUM=int(input(\"Inserta el numero entero: \"))\n",
        "\n",
        "if NUM>0:\n",
        "    print(\"POSITIVO\")\n",
        "else:\n",
        "    if NUM==0:\n",
        "        print(\"NULO\")\n",
        "    else: \n",
        "        print(\"NEGATIVO\")\n",
        "print(\"Fin del programa\")"
      ],
      "execution_count": null,
      "outputs": [
        {
          "output_type": "stream",
          "name": "stdout",
          "text": [
            "Teclea un numero entero, para verificar si se trata de un numero positivo, negativo o nulo.\n",
            "Inserta el numero entero: -15\n",
            "NEGATIVO\n",
            "Fin del programa\n"
          ]
        }
      ]
    },
    {
      "cell_type": "code",
      "metadata": {
        "colab": {
          "base_uri": "https://localhost:8080/"
        },
        "id": "KNHNbOR667D8",
        "outputId": "67be3009-fb63-4ded-9c55-fc6326b4784d"
      },
      "source": [
        "#Ejercicio 2.6\n",
        "print(\"Teclea un numero entero, para verificar si se trata de un numero par, impar o nulo.\")\n",
        "\n",
        "A=int(input(\"Inserta el numero entero: \"))\n",
        "\n",
        "if A==0:\n",
        "    print(\"NULO\")\n",
        "else: \n",
        "    if (-1)**A>0:\n",
        "        print(\"PAR\")\n",
        "    else: \n",
        "        print(\"IMPAR\")\n",
        "print(\"Fin del programa\")"
      ],
      "execution_count": null,
      "outputs": [
        {
          "output_type": "stream",
          "name": "stdout",
          "text": [
            "Teclea un numero entero, para verificar si se trata de un numero par, impar o nulo.\n",
            "Inserta el numero entero: 1\n",
            "IMPAR\n",
            "Fin del programa\n"
          ]
        }
      ]
    },
    {
      "cell_type": "code",
      "metadata": {
        "colab": {
          "base_uri": "https://localhost:8080/"
        },
        "id": "8ydYPbJV9lmK",
        "outputId": "54bb5d84-c3eb-4d73-f9b6-defb3a668243"
      },
      "source": [
        "#Ejercicio 2.7 \n",
        "print(\"Teclea tres numeros enteros diferentes, para verificar si se encuentran ordenados de manera creciente\")\n",
        "\n",
        "A=int(input(\"Inserte el primer numero entero: \"))\n",
        "B=int(input(\"Inserte el segundo numero entero: \"))\n",
        "C=int(input(\"Inserte el tercer numero entero: \"))\n",
        "\n",
        "if A<B:\n",
        "    if B<C:\n",
        "        print(\"Los numeros estan ordenados crecientemente\")\n",
        "    else: \n",
        "        print(\"Los numeros no estan ordenados crecientemente\")\n",
        "else: \n",
        "    print(\"Los numeros no estan ordenados crecientemente\")\n",
        "print(\"Fin del programa\")"
      ],
      "execution_count": null,
      "outputs": [
        {
          "output_type": "stream",
          "name": "stdout",
          "text": [
            "Teclea tres numeros enteros diferentes, para verificar si se encuentran ordenados de manera creciente\n",
            "Inserte el primer numero entero: 2\n",
            "Inserte el segundo numero entero: 4\n",
            "Inserte el tercer numero entero: 5\n",
            "Los numeros estan ordenados crecientemente\n",
            "Fin del programa\n"
          ]
        }
      ]
    },
    {
      "cell_type": "code",
      "metadata": {
        "colab": {
          "base_uri": "https://localhost:8080/"
        },
        "id": "nzQO5p9kAGCB",
        "outputId": "c0f2126d-bad3-41b8-b2c5-e151854433d9"
      },
      "source": [
        "#Ejercicio 2.8\n",
        "print(\"Tecle el monto la compra, para verificar si es posible hacerle un descuento: \")\n",
        "\n",
        "COMPRA = float(input(\"Inserte el monto de la compra: $\"))\n",
        "PAGAR=0\n",
        "\n",
        "if COMPRA<500:\n",
        "    PAGAR=COMPRA\n",
        "    print(f\"El monto a pagar es: ${PAGAR}\")\n",
        "else:\n",
        "    if COMPRA<=1000:\n",
        "        PAGAR=COMPRA-(COMPRA*0.05)\n",
        "        print(f\"El monto a pagar es: ${PAGAR}\")\n",
        "    else: \n",
        "        if COMPRA<=7000:\n",
        "            PAGAR=COMPRA-(COMPRA*0.11)\n",
        "            print(f\"El monto a pagar es: ${PAGAR}\")\n",
        "        else: \n",
        "            if COMPRA<=15000:\n",
        "                PAGAR=COMPRA-(COMPRA*0.18)\n",
        "                print(f\"El monto a pagar es: ${PAGAR}\")\n",
        "            else:\n",
        "                PAGAR=COMPRA-(COMPRA*0.25)\n",
        "                print(f\"El monto a pagar es: ${PAGAR}\")\n",
        "print(\"Fin del programa\")"
      ],
      "execution_count": null,
      "outputs": [
        {
          "output_type": "stream",
          "name": "stdout",
          "text": [
            "Tecle el monto la compra, para verificar si es posible hacerle un descuento: \n",
            "Inserte el monto de la compra: $375.80\n",
            "El monto a pagar es: $375.8\n",
            "Fin del programa\n"
          ]
        }
      ]
    },
    {
      "cell_type": "code",
      "metadata": {
        "colab": {
          "base_uri": "https://localhost:8080/"
        },
        "id": "ck3RGWjtGEmX",
        "outputId": "f29f7f28-1f11-4c14-e88e-2cd861308516"
      },
      "source": [
        "#Ejercicio 2.9 \n",
        "print(\"Tecle el costo basico de un articulo, para determinar su precio total: \")\n",
        "\n",
        "PRUEBAS=float(input(\"Inserte el costo basico de un producto: $\"))\n",
        "IMP=0\n",
        "PRETOT=0\n",
        "if PRUEBAS>500:\n",
        "    IMP=20*0.30+(PRUEBAS-40)*0.50\n",
        "    PRETOT=PRUEBAS+IMP \n",
        "    print(f\"El costo basico es: ${PRUEBAS} y con su impuesto es: ${PRETOT}\")\n",
        "else: \n",
        "    if PRUEBAS>40:\n",
        "        IMP=20*0.30+(PRUEBAS-40)*0.40\n",
        "        PRETOT=PRUEBAS+IMP \n",
        "        print(f\"El costo basico es: ${PRUEBAS} y con su impuesto es: ${PRETOT}\")\n",
        "    else: \n",
        "        if PRUEBAS>20:\n",
        "             IMP= (PRUEBAS-20)*0.30\n",
        "             PRETOT=PRUEBAS+IMP \n",
        "             print(f\"El costo basico es: ${PRUEBAS} y con su impuesto es: ${PRETOT}\")\n",
        "        else: \n",
        "            IMP=0\n",
        "            PRETOT=PRUEBAS+IMP \n",
        "            print(f\"El costo basico es: ${PRUEBAS} y con su impuesto es: ${PRETOT}\")\n",
        "\n",
        "\n"
      ],
      "execution_count": null,
      "outputs": [
        {
          "output_type": "stream",
          "name": "stdout",
          "text": [
            "Tecle el costo basico de un articulo, para determinar su precio total: \n",
            "Inserte el costo basico de un producto: $217.80\n",
            "El costo basico es: $217.8 y con su impuesto es: $294.92\n"
          ]
        }
      ]
    },
    {
      "cell_type": "code",
      "metadata": {
        "id": "l-TqxBRoJ5_b",
        "colab": {
          "base_uri": "https://localhost:8080/"
        },
        "outputId": "06383069-24c9-4ba9-d583-64d2c50e551b"
      },
      "source": [
        "#Ejercicio 2.10\n",
        "print(\"Teclea 3 numeros difrentes o iguales, para determinar cual es mayor. \")\n",
        "\n",
        "A=float(input(\"Teclea el primer numero: \"))\n",
        "B=float(input(\"Teclea el segundo numero: \"))\n",
        "C=float(input(\"Teclea el tercer numero: \"))\n",
        "\n",
        "if A>B:\n",
        "    if A>C:\n",
        "        print(f\"A={A} es mayor. \")\n",
        "    else: \n",
        "        if A==C:\n",
        "            print(f\"A={A} y C={C} son mayores. \")\n",
        "        else: \n",
        "            print(f\"C={C} es mayor. \")\n",
        "else: \n",
        "    if A==B:\n",
        "        if A>C:\n",
        "            print(f\"A={A} y B={B} son mayores. \")\n",
        "        else: \n",
        "            if A==C:\n",
        "                print(f\"A={A}, B={B} y C={C}son mayores. \")\n",
        "            else:\n",
        "                print(f\"C={C} es mayor. \")\n",
        "    else: \n",
        "        if B>C:\n",
        "            print(f\"B={B} es mayor\")     \n",
        "        else: \n",
        "            if B==C:\n",
        "                print(f\"B={B} y C={C} son mayores\")\n",
        "            else: \n",
        "                print(f\"C={C} es mayor. \")\n",
        "print(\"Fin de programa\")"
      ],
      "execution_count": 1,
      "outputs": [
        {
          "output_type": "stream",
          "name": "stdout",
          "text": [
            "Teclea 3 numeros difrentes o iguales, para determinar cual es mayor. \n",
            "Teclea el primer numero: 6\n",
            "Teclea el segundo numero: 8\n",
            "Teclea el tercer numero: 9\n",
            "C=9.0 es mayor. \n",
            "Fin de programa\n"
          ]
        }
      ]
    },
    {
      "cell_type": "code",
      "metadata": {
        "id": "VEEOWEnrWwc_",
        "colab": {
          "base_uri": "https://localhost:8080/"
        },
        "outputId": "cf1297f2-42b0-4a0f-ac8c-48807d438f17"
      },
      "source": [
        "#Ejercico 2.11 \n",
        "print(\"Tecle la clave de la zona geografica y los minutos, para determinar el costo de la llamada.\")\n",
        "\n",
        "CLAVE=int(input(\"Inserte la clave de la zona geografica: \"))\n",
        "NUMIN=float(input(\"Inserte los minutos de su llamda: \"))\n",
        "COST=0\n",
        "\n",
        "if CLAVE==12:\n",
        "    COST=NUMIN*2\n",
        "    print(f\"Costo total de llamada: {COST}\")\n",
        "elif CLAVE==15:\n",
        "    COST=NUMIN*2.2\n",
        "    print(f\"Costo total de llamada: {COST}\")\n",
        "elif CLAVE==18:\n",
        "    COST=NUMIN*4.5\n",
        "    print(f\"Costo total de llamada: {COST}\")\n",
        "elif CLAVE==19:\n",
        "    COST=NUMIN*3.5\n",
        "    print(f\"Costo total de llamada: {COST}\")\n",
        "elif CLAVE==23 or CLAVE==25:\n",
        "    COST=NUMIN*6\n",
        "    print(f\"Costo total de llamada: {COST}\")\n",
        "elif CLAVE==29:\n",
        "    COSTO=NUMIN*5\n",
        "    print(f\"Costo total de llamada: {COST}\")\n",
        "else:\n",
        "    print(\"Ingresaste un numero que no es parte de la zona geografica\")\n",
        "\n",
        "print(\"Fin del programa\")"
      ],
      "execution_count": 9,
      "outputs": [
        {
          "output_type": "stream",
          "name": "stdout",
          "text": [
            "Tecle la clave de la zona geografica y los minutos, para determinar el costo de la llamada.\n",
            "Inserte la clve de la zona geografica: 23\n",
            "Inserte los minutos de su llamda: 5\n",
            "Costo total de llamada: 30.0\n",
            "Fin del programa\n"
          ]
        }
      ]
    },
    {
      "cell_type": "code",
      "metadata": {
        "colab": {
          "base_uri": "https://localhost:8080/"
        },
        "id": "-vwKnxRiLdky",
        "outputId": "f409ad2d-6abd-4b52-b43e-5cf1f4f175cc"
      },
      "source": [
        "#Ejercicio 2.12\n",
        "print(\"Teclea tu su sueldo actual, tu categoria entre el 1 y 8, asi como el numero de horas extras, para determinar cuanto se te pagara.\")\n",
        "\n",
        "SUE=float(input(\"Igresa tu sueldo: $\"))\n",
        "CATE=int(input(\"Ingresa tu categoria entre el 1 y el 8: \"))\n",
        "HE=int(input(\"Ingresa el numero de horas: \"))\n",
        "PHE=0\n",
        "NSUE=0\n",
        "\n",
        "\n",
        "if CATE==1:\n",
        "    PHE=30 \n",
        "elif CATE==2:\n",
        "    PHE=38\n",
        "elif CATE==3:\n",
        "    PHE=50\n",
        "elif CATE==4:\n",
        "    PHE=70\n",
        "elif CATE!=4 and CATE!=3 and CATE!=2 and CATE!=1:\n",
        "    PHE=0\n",
        "\n",
        "if HE>30:\n",
        "    MSUE=SUE+(30*PHE)\n",
        "    print(f\"Entonces tu sueldo es: ${MSUE}\")\n",
        "else:\n",
        "    MSUE= SUE+(HE*PHE)\n",
        "    print(f\"Entonces tu sueldo es: ${MSUE}\")\n",
        "\n",
        "\n",
        "print(\"Fin del programa\")\n"
      ],
      "execution_count": 18,
      "outputs": [
        {
          "output_type": "stream",
          "name": "stdout",
          "text": [
            "Teclea tu su sueldo actual, tu categoria entre el 1 y 8, asi como el numero de horas extras, para determinar cuanto se te pagara.\n",
            "Igresa tu sueldo: $3350\n",
            "Ingresa tu categoria entre el 1 y el 8: 3\n",
            "Ingresa el numero de horas: 49\n",
            "Entonces tu sueldo es: $4850.0\n",
            "Fin del programa\n"
          ]
        }
      ]
    },
    {
      "cell_type": "code",
      "metadata": {
        "colab": {
          "base_uri": "https://localhost:8080/"
        },
        "id": "xma3ac__lXkz",
        "outputId": "23f3e587-d23b-461b-d99d-a94f6515d5a8"
      },
      "source": [
        "#Ejercicio 2.13\n",
        "print(\"Teclea tu numero de matricula, tu semestre en numeros y tu promedio, para determinar si eres apto a pertencer a alguna de la facultades menor de la universidad \")\n",
        "\n",
        "MAT= int(input(\"Ingresa tu numero de matricula: \"))\n",
        "CARR= str(input(\"Ingresa tu carrera: \"))\n",
        "SEM= int(input(\"Ingresa el semestres al que pertence con numero: \"))\n",
        "PROM= float(input(\"Ingresa tu promedio: \"))\n",
        "\n",
        "Economia=(\"Economia\")\n",
        "Computacion=(\"Computacion\")\n",
        "Contabilidad=(\"Contabilidad\")\n",
        "Administracion=(\"Administracion\")\n",
        "\n",
        "if CARR==Economia:\n",
        "    if SEM>=6 and PROM>=8.8:\n",
        "        print(f\"Tu matricula es: {MAT} y tu carrera es: {CARR}, fuiste aceptado\")\n",
        "elif CARR==Computacion:\n",
        "    if SEM>6 and PROM>8.5:\n",
        "        print(f\"Tu matricula es: {MAT} y tu carrera es: {CARR}, fuiste aceptado\")\n",
        "elif CARR==Contabilidad or CARR==Administracion:\n",
        "    if SEM>=5 and PROM>=8.8:\n",
        "        print(f\"Tu matricula es: {MAT} y tu carrera es: {CARR}, fuiste aceptado\")\n",
        "print(\"Fin de programa\")\n"
      ],
      "execution_count": 23,
      "outputs": [
        {
          "output_type": "stream",
          "name": "stdout",
          "text": [
            "Teclea tu numero de matricula, tu semestre en numeros y tu promedio, para determinar si eres apto a pertencer a alguna de la facultades menor de la universidad \n",
            "Ingresa tu numero de matricula: 25900\n",
            "Ingresa tu carrera: Contabilidad\n",
            "Ingresa el semestres al que pertence con numero: 7\n",
            "Ingresa tu promedio: 9\n",
            "Tu matricula es: 25900 y tu carrera es: Contabilidad, fuiste aceptado\n",
            "Fin de programa\n"
          ]
        }
      ]
    }
  ]
}