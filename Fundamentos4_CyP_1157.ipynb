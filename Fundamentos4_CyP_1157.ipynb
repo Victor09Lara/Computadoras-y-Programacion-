{
  "nbformat": 4,
  "nbformat_minor": 0,
  "metadata": {
    "colab": {
      "name": "Fundamentos4_CyP_1157.ipynb",
      "provenance": [],
      "authorship_tag": "ABX9TyPb8cSB15HZPVg/okHtgH7F",
      "include_colab_link": true
    },
    "kernelspec": {
      "name": "python3",
      "display_name": "Python 3"
    },
    "language_info": {
      "name": "python"
    }
  },
  "cells": [
    {
      "cell_type": "markdown",
      "metadata": {
        "id": "view-in-github",
        "colab_type": "text"
      },
      "source": [
        "<a href=\"https://colab.research.google.com/github/Victor09Lara/Computadoras-y-Programacion-/blob/main/Fundamentos4_CyP_1157.ipynb\" target=\"_parent\"><img src=\"https://colab.research.google.com/assets/colab-badge.svg\" alt=\"Open In Colab\"/></a>"
      ]
    },
    {
      "cell_type": "markdown",
      "metadata": {
        "id": "Lmh5ql-PUI_G"
      },
      "source": [
        "#Modularidad (Funciones)\n",
        "Una funcion es un unidad de codigo reutilizable, ademas de ser un mecanismo para organizar codigo.\n",
        "La gran ventaja de emplear funciones, es simplificar la programacion. \n",
        "###Estructura \n",
        "Una funcion puede tomar cualquier cantidad de parametros de entrados (cualquier)\n",
        "y retornar unicamente un solo valor. \n",
        "\n",
        "Un parametro de entrada es un valor que resive la funcion para realizar sus operaciones. \n",
        "\n",
        "Con una funcion se pueden hacer dos cosas:\n",
        "1. Definirla\n",
        "2. Invocarla (Ejecutarla)\n",
        "\n",
        "La gran ventaja de tener un funcion declara es que la podemos reutilizar cuando se desee\n"
      ]
    },
    {
      "cell_type": "code",
      "metadata": {
        "id": "SeJQQPwIUBZo"
      },
      "source": [
        "def sumar (op1,op2):\n",
        "    res = op1+op2\n",
        "    return res"
      ],
      "execution_count": null,
      "outputs": []
    },
    {
      "cell_type": "code",
      "metadata": {
        "colab": {
          "base_uri": "https://localhost:8080/"
        },
        "id": "H3P_oQ6HYDz-",
        "outputId": "d7952069-b83c-4b59-cfe3-4e74401ad343"
      },
      "source": [
        "res = sumar (2,5)\n",
        "print(res)\n",
        "res = sumar(33, 22)\n",
        "print(res)"
      ],
      "execution_count": null,
      "outputs": [
        {
          "output_type": "stream",
          "name": "stdout",
          "text": [
            "7\n",
            "55\n"
          ]
        }
      ]
    },
    {
      "cell_type": "code",
      "metadata": {
        "colab": {
          "base_uri": "https://localhost:8080/"
        },
        "id": "TsdDRVY1Z3We",
        "outputId": "1a7a8a46-45a6-4187-8618-583161d10e4f"
      },
      "source": [
        "print(\"Hola\",\"Victor\",sep=\"-\")"
      ],
      "execution_count": null,
      "outputs": [
        {
          "output_type": "stream",
          "name": "stdout",
          "text": [
            "Hola-Victor\n"
          ]
        }
      ]
    },
    {
      "cell_type": "code",
      "metadata": {
        "colab": {
          "base_uri": "https://localhost:8080/"
        },
        "id": "whNb6CJNaSdL",
        "outputId": "628aea45-547c-4587-93d1-b4fb4f0f20c2"
      },
      "source": [
        "def imprime_cuadro():\n",
        "    print(\"****\")\n",
        "    print(\"****\")\n",
        "    print(\"****\")\n",
        "    print(\"****\")\n",
        "    #return None \n",
        "imprime_cuadro()"
      ],
      "execution_count": null,
      "outputs": [
        {
          "output_type": "stream",
          "name": "stdout",
          "text": [
            "****\n",
            "****\n",
            "****\n",
            "****\n"
          ]
        }
      ]
    },
    {
      "cell_type": "markdown",
      "metadata": {
        "id": "Utg_gt8xa62c"
      },
      "source": [
        "#Valor de retorno de una funcion \n",
        "Regla de oro. Una funcion siempre retorna un sola funcion. Inclusive si ese valor es vacio "
      ]
    },
    {
      "cell_type": "code",
      "metadata": {
        "colab": {
          "base_uri": "https://localhost:8080/"
        },
        "id": "6lCHqflRbN2K",
        "outputId": "e92573cd-8968-475f-9c96-376459558bf9"
      },
      "source": [
        "#Invocar sumar \n",
        "res= sumar (7, 7)\n",
        "print(res)\n",
        "#Invocar la funcion pintar\n",
        "res= imprime_cuadro()\n",
        "print(res)"
      ],
      "execution_count": null,
      "outputs": [
        {
          "output_type": "stream",
          "name": "stdout",
          "text": [
            "14\n",
            "****\n",
            "****\n",
            "****\n",
            "****\n",
            "None\n"
          ]
        }
      ]
    },
    {
      "cell_type": "markdown",
      "metadata": {
        "id": "OdiVqlDKdF76"
      },
      "source": [
        "#La palabra reservada None en python\n",
        "Esta palabra reservada significa vacio, equivalente a la palabra reservada void del lenguaje C++ y Java \n",
        "\n",
        "Se usa para indicar ya sea un return vacio o que se resive un parametro vacio. \n"
      ]
    },
    {
      "cell_type": "code",
      "metadata": {
        "id": "UkNt0Cf0d3sI"
      },
      "source": [
        "def multiplicar(valor, veces):\n",
        "    c=valor*veces \n",
        "    return c"
      ],
      "execution_count": null,
      "outputs": []
    },
    {
      "cell_type": "code",
      "metadata": {
        "colab": {
          "base_uri": "https://localhost:8080/"
        },
        "id": "9YBi3W8ZeIzs",
        "outputId": "6978a95f-1962-49bc-ce46-996f42f5ef4d"
      },
      "source": [
        "res= multiplicar (5,5)\n",
        "print(res)"
      ],
      "execution_count": null,
      "outputs": [
        {
          "output_type": "stream",
          "name": "stdout",
          "text": [
            "25\n"
          ]
        }
      ]
    },
    {
      "cell_type": "code",
      "metadata": {
        "id": "ZEpGCKuIetj2"
      },
      "source": [
        "def multiplicar(valor, veces):\n",
        "    if valor==None:\n",
        "        c=-1\n",
        "    else:\n",
        "        c=valor*veces \n",
        "    return c"
      ],
      "execution_count": null,
      "outputs": []
    },
    {
      "cell_type": "code",
      "metadata": {
        "colab": {
          "base_uri": "https://localhost:8080/"
        },
        "id": "XPbQ75pae9-1",
        "outputId": "2f9ebdd6-6963-487b-8dc6-9a51c7ec4ffb"
      },
      "source": [
        "res= multiplicar (None,5)\n",
        "print(res)"
      ],
      "execution_count": null,
      "outputs": [
        {
          "output_type": "stream",
          "name": "stdout",
          "text": [
            "-1\n"
          ]
        }
      ]
    },
    {
      "cell_type": "markdown",
      "metadata": {
        "id": "GcTACk2NfkXC"
      },
      "source": [
        "#Parametros y argumentos.\n",
        "Son conceptos relacionados y su diferencia esta centrada y el momento que se emplea en un funcion. \n",
        "Es decir, en la funcion de arriba cuando se declara se le llama parametro, y cuando se le invoca se llama argumento."
      ]
    },
    {
      "cell_type": "markdown",
      "metadata": {
        "id": "rJ7XK4TffZIm"
      },
      "source": [
        "#Argumentos posicionales\n",
        "En python es posible determinar a que parametros estan dirigidos los argumentos\n",
        "segun su posicion.\n"
      ]
    },
    {
      "cell_type": "code",
      "metadata": {
        "id": "5PNRkjpVgYta"
      },
      "source": [
        "def dividir(op1, op2):\n",
        "    c= op1/op2\n",
        "    return c"
      ],
      "execution_count": null,
      "outputs": []
    },
    {
      "cell_type": "code",
      "metadata": {
        "colab": {
          "base_uri": "https://localhost:8080/"
        },
        "id": "SedmlMaDg2wM",
        "outputId": "b6477189-e2e2-43ac-cb10-f3367e9f5ae0"
      },
      "source": [
        "num1= 25 \n",
        "num2= 5\n",
        "res = dividir(num1, num2)\n",
        "print(res)\n",
        "res = dividir(num2, num1)\n",
        "print(res)"
      ],
      "execution_count": null,
      "outputs": [
        {
          "output_type": "stream",
          "name": "stdout",
          "text": [
            "5.0\n",
            "0.2\n"
          ]
        }
      ]
    },
    {
      "cell_type": "markdown",
      "metadata": {
        "id": "sGk3mIi7hTqW"
      },
      "source": [
        "#Argumentos con palabras clave (keywords)\n",
        "Es la posibilidad de indicarle a la funcion \n",
        "en tiempo de ejecucion a que parametro va dirigido un arguemento de entrada.\n",
        "Solo disponible en python"
      ]
    },
    {
      "cell_type": "code",
      "metadata": {
        "colab": {
          "base_uri": "https://localhost:8080/"
        },
        "id": "MMtfal4hhsbV",
        "outputId": "dadc05be-f0bc-415d-9660-6c26657ff919"
      },
      "source": [
        "res = dividir(op2=num2, op1=num1) #Podemos asigrnale a que op se va a ir \n",
        "print(res)"
      ],
      "execution_count": null,
      "outputs": [
        {
          "output_type": "stream",
          "name": "stdout",
          "text": [
            "5.0\n"
          ]
        }
      ]
    },
    {
      "cell_type": "markdown",
      "source": [
        "# Arguemnto por defecto \n",
        "Es la capacidad de las funciones de establcer las funciones por defecto \n",
        "(Default).\n",
        "Si no se envia un arguemento a dicho parametro, entonces se asigna en el que el programador asigno como default "
      ],
      "metadata": {
        "id": "0IUAkeBa-BMX"
      }
    },
    {
      "cell_type": "code",
      "source": [
        "def dividir (op1, op2=2):\n",
        "    c=op1/op2\n",
        "    return c\n",
        "\n",
        "print(dividir(25))"
      ],
      "metadata": {
        "colab": {
          "base_uri": "https://localhost:8080/"
        },
        "id": "Dc39HsT5-jQT",
        "outputId": "bce63c1f-a714-4848-e4b0-ff893289b817"
      },
      "execution_count": 4,
      "outputs": [
        {
          "output_type": "stream",
          "name": "stdout",
          "text": [
            "12.5\n"
          ]
        }
      ]
    },
    {
      "cell_type": "markdown",
      "source": [
        "Este concepto se puede ejemplificar con la funcion **print "
      ],
      "metadata": {
        "id": "CLojo1ZB_Rz9"
      }
    },
    {
      "cell_type": "code",
      "source": [
        "nombre=\"Jose\"\n",
        "edad=18\n",
        "print(nombre,edad, sep='-+-+-+-+-+-+-')\n",
        "print(\"Hola\",end=\" \")\n",
        "print(\"--------\")"
      ],
      "metadata": {
        "colab": {
          "base_uri": "https://localhost:8080/"
        },
        "id": "-CR1nGSM_GUW",
        "outputId": "1d03369d-9cfa-4d65-d1ca-1fe2ebe8f9f0"
      },
      "execution_count": 11,
      "outputs": [
        {
          "output_type": "stream",
          "name": "stdout",
          "text": [
            "Jose-+-+-+-+-+-+-18\n",
            "Hola --------\n"
          ]
        }
      ]
    },
    {
      "cell_type": "markdown",
      "source": [
        "# Ejercicio de argumentos posicionales \n"
      ],
      "metadata": {
        "id": "f4Jy0aH1Aqx0"
      }
    },
    {
      "cell_type": "code",
      "source": [
        "def comanda (comensal= 1 ,primer=\"Consome\", segundo=\"Arroz rojo\", tercero=\"Enchiladas\"):\n",
        "    print(f\"El comensal {comensal} quiere: \")\n",
        "    print(\"\\t Entrada:\", primer)\n",
        "    print(\"\\t Medio:\", segundo)\n",
        "    print(\"\\t Plato fuerte:\", tercero )\n",
        "comanda()\n",
        "\n",
        "comanda(3, \"Ensalada\", \"arroz blanco\", \"Esparragos al horno\")\n",
        "comanda(\"arroz blanco\", \"Esparragos al horno\",\"Ensalada\", 3)\n",
        "comanda(segundo=\"arroz blanco\", tercero=\"Esparragos al horno\", primer=\"Ensalada\", comensal=3)"
      ],
      "metadata": {
        "colab": {
          "base_uri": "https://localhost:8080/"
        },
        "id": "njFdsWpTA0BF",
        "outputId": "5744769b-7de1-4fe1-c707-8592b7fcb408"
      },
      "execution_count": 20,
      "outputs": [
        {
          "output_type": "stream",
          "name": "stdout",
          "text": [
            "El comensal 1 quiere: \n",
            "\t Entrada: Consome\n",
            "\t Medio: Arroz rojo\n",
            "\t Plato fuerte: Enchiladas\n",
            "El comensal 3 quiere: \n",
            "\t Entrada: Ensalada\n",
            "\t Medio: arroz blanco\n",
            "\t Plato fuerte: Esparragos al horno\n",
            "El comensal arroz blanco quiere: \n",
            "\t Entrada: Esparragos al horno\n",
            "\t Medio: Ensalada\n",
            "\t Plato fuerte: 3\n",
            "El comensal 3 quiere: \n",
            "\t Entrada: Ensalada\n",
            "\t Medio: arroz blanco\n",
            "\t Plato fuerte: Esparragos al horno\n"
          ]
        }
      ]
    },
    {
      "cell_type": "markdown",
      "source": [
        "#Argumentos enviados en un grupo en una tupla \n",
        "Eswto sirve para enviar multiples argumentos a una funcion empleando el comodin *\n",
        "```\n",
        "def mifun(args*):\n",
        "    <cuerpo de la funcion>\n",
        "```"
      ],
      "metadata": {
        "id": "OtjYJx5iDldK"
      }
    },
    {
      "cell_type": "code",
      "source": [
        "def comanda2(*opciones): #la indicamos con * que vamos a meter un grupo de arguemtos \n",
        "  \n",
        "    print(f\"El comensal {opciones[0]} pidio: \")\n",
        "    print(\"\\tEntrada: \", opciones[1] )\n",
        "    print(\"\\tSegundo: \", opciones[2] )\n",
        "    print(\"\\tPlato Fuerte: \", opciones[3] )\n",
        "    print(\"indicaciones extra\")\n",
        "    for instruccion in opciones[4::]:\n",
        "        print(\"\\n\", instruccion)\n",
        "\n",
        "comanda2(1, \"Sopa de fideo\", \"Arroz\", \"Arrachera\")"
      ],
      "metadata": {
        "colab": {
          "base_uri": "https://localhost:8080/"
        },
        "id": "2L_VKYEBB6SN",
        "outputId": "87fd3f0f-d51d-47d4-a801-382080869f95"
      },
      "execution_count": 26,
      "outputs": [
        {
          "output_type": "stream",
          "name": "stdout",
          "text": [
            "El comensal 1 pidio: \n",
            "\tEntrada:  Sopa de fideo\n",
            "\tSegundo:  Arroz\n",
            "\tPlato Fuerte:  Arrachera\n",
            "indicaciones extra\n"
          ]
        }
      ]
    },
    {
      "cell_type": "markdown",
      "source": [
        "#Argumentos emviados en grupo en un diccionario \n",
        "Es el mismo que el anterior pero se usa el comodin  ** y se mapea en un diccionario"
      ],
      "metadata": {
        "id": "wCeWiuq1G4m2"
      }
    },
    {
      "cell_type": "code",
      "source": [
        "def comanda3(**opciones ):\n",
        "   # print(opciones)\n",
        "   # print(f\"El comensal {opciones['comensal']} pidio:\")\n",
        "    ops = opciones.keys()\n",
        "    print(ops)\n",
        "    for key in ops:\n",
        "        print(f\"{key} = {opciones[key]}\")\n",
        "\n",
        "comanda3(segundo=\"arroz blanco\",tercero=\"Esparragos al horno\",primer=\"Ensalada\",comensal=3)"
      ],
      "metadata": {
        "colab": {
          "base_uri": "https://localhost:8080/"
        },
        "id": "A8cfFaS8G3zB",
        "outputId": "6ead7e56-5018-43fa-f748-7c97c2d82633"
      },
      "execution_count": 31,
      "outputs": [
        {
          "output_type": "stream",
          "name": "stdout",
          "text": [
            "dict_keys(['segundo', 'tercero', 'primer', 'comensal'])\n",
            "segundo = arroz blanco\n",
            "tercero = Esparragos al horno\n",
            "primer = Ensalada\n",
            "comensal = 3\n"
          ]
        }
      ]
    },
    {
      "cell_type": "code",
      "source": [
        "#Modularidad y biblioteca \n",
        "Todos los lenguajes de programacion teien la capacidad de compartir entre la comunidad\n",
        "de programadores\n",
        "Para ello cada lenguaje establece un mecanismo para escribir y compartir la biblioteca \n"
      ],
      "metadata": {
        "id": "LMkzlFyPJnRF"
      },
      "execution_count": null,
      "outputs": []
    },
    {
      "cell_type": "code",
      "source": [
        "!pip install simple_chalk"
      ],
      "metadata": {
        "colab": {
          "base_uri": "https://localhost:8080/"
        },
        "id": "jyy9ZC17MB0q",
        "outputId": "7e25f6f0-3b07-4e43-95b9-6427ee6a27f2"
      },
      "execution_count": 34,
      "outputs": [
        {
          "output_type": "stream",
          "name": "stdout",
          "text": [
            "Collecting simple_chalk\n",
            "  Downloading simple_chalk-0.1.0.tar.gz (13 kB)\n",
            "Building wheels for collected packages: simple-chalk\n",
            "  Building wheel for simple-chalk (setup.py) ... \u001b[?25l\u001b[?25hdone\n",
            "  Created wheel for simple-chalk: filename=simple_chalk-0.1.0-py3-none-any.whl size=22163 sha256=fd09e231ed3fa4682b95f7bf6ee3f14f90d929cb6fc2f60914592b11db1d7a49\n",
            "  Stored in directory: /root/.cache/pip/wheels/24/e2/84/d54838032016039eef79df1137b91defaa6db068d825dfcdcd\n",
            "Successfully built simple-chalk\n",
            "Installing collected packages: simple-chalk\n",
            "Successfully installed simple-chalk-0.1.0\n"
          ]
        }
      ]
    },
    {
      "cell_type": "code",
      "source": [
        "from simple_chalk import chalk, yellow\n",
        "print(chalk, yellow(\"Hola en color amarillo\"))\n"
      ],
      "metadata": {
        "colab": {
          "base_uri": "https://localhost:8080/"
        },
        "id": "PyefWQ3SKu5x",
        "outputId": "78f62d53-3c7a-4193-ed30-6c7c4d9c5a6b"
      },
      "execution_count": 35,
      "outputs": [
        {
          "output_type": "stream",
          "name": "stdout",
          "text": [
            "<simple_chalk.src.makeAChalkClass.makeAChalkClass.<locals>.Chalk object at 0x7f3f6c5c2910> \u001b[33mHola en color amarillo\u001b[0m\n"
          ]
        }
      ]
    },
    {
      "cell_type": "markdown",
      "source": [
        "#¿Como escribo un modulo? bliblioteca de codigo\n",
        "Se define en un archivo de biblioteca \n"
      ],
      "metadata": {
        "id": "hdETJ_2yO-cw"
      }
    },
    {
      "cell_type": "code",
      "source": [
        "!cat mi_moduulo.py"
      ],
      "metadata": {
        "colab": {
          "base_uri": "https://localhost:8080/"
        },
        "id": "kJjXgm95PPkL",
        "outputId": "a73c770f-ae36-4734-f584-dd4f9db07db5"
      },
      "execution_count": 36,
      "outputs": [
        {
          "output_type": "stream",
          "name": "stdout",
          "text": [
            "def sumar (a,b):\r\n",
            "    return a+b\r\n",
            "def mi_print (texto, final):\r\n",
            "    print(\"Super:\", text, end=final)\r\n",
            "    "
          ]
        }
      ]
    },
    {
      "cell_type": "code",
      "source": [
        "import mi_moduulo\n",
        "res=mi_moduulo.sumar(7, 5)\n",
        "print(res)\n",
        "\n",
        "mi_moduulo.mi_print(\"Victor\",\"\\n\")"
      ],
      "metadata": {
        "colab": {
          "base_uri": "https://localhost:8080/"
        },
        "id": "r6Y-5A-XQsgp",
        "outputId": "79e0c601-2034-412b-ac7f-64c8a947a474"
      },
      "execution_count": 1,
      "outputs": [
        {
          "output_type": "stream",
          "name": "stdout",
          "text": [
            "12\n",
            "Super: Victor\n"
          ]
        }
      ]
    },
    {
      "cell_type": "code",
      "source": [
        "from mi_moduulo import sumar, mi_print\n",
        "res=sumar(5,3)\n",
        "print(res)\n",
        "mi_print(\"Victor\", \"\\n\")"
      ],
      "metadata": {
        "colab": {
          "base_uri": "https://localhost:8080/"
        },
        "id": "M2HAHtN1R7S_",
        "outputId": "8371af68-bae2-4553-e1c0-2ead70bd3891"
      },
      "execution_count": 4,
      "outputs": [
        {
          "output_type": "stream",
          "name": "stdout",
          "text": [
            "8\n",
            "Super: Victor\n"
          ]
        }
      ]
    },
    {
      "cell_type": "code",
      "source": [
        "archivo=open(\"salida.txt\", \"wt\")\n",
        "archivo.write(\"hola mundo\")\n",
        "archivo.close()"
      ],
      "metadata": {
        "id": "qbPhRtbMS4Tc"
      },
      "execution_count": 8,
      "outputs": []
    },
    {
      "cell_type": "code",
      "source": [
        "!cat salida.txt"
      ],
      "metadata": {
        "colab": {
          "base_uri": "https://localhost:8080/"
        },
        "id": "MbK1GEmQTNA8",
        "outputId": "3f02e7c0-d78a-40a2-f594-cc89440bf80a"
      },
      "execution_count": 9,
      "outputs": [
        {
          "output_type": "stream",
          "name": "stdout",
          "text": [
            "hola mundo"
          ]
        }
      ]
    }
  ]
}