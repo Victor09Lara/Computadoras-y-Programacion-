{
  "nbformat": 4,
  "nbformat_minor": 0,
  "metadata": {
    "colab": {
      "name": "Fundamentos4_CyP_1157.ipynb",
      "provenance": [],
      "authorship_tag": "ABX9TyM6/zjy8UywcSz0ERErmbEI",
      "include_colab_link": true
    },
    "kernelspec": {
      "name": "python3",
      "display_name": "Python 3"
    },
    "language_info": {
      "name": "python"
    }
  },
  "cells": [
    {
      "cell_type": "markdown",
      "metadata": {
        "id": "view-in-github",
        "colab_type": "text"
      },
      "source": [
        "<a href=\"https://colab.research.google.com/github/Victor09Lara/Computadoras-y-Programacion-/blob/main/Fundamentos4_CyP_1157.ipynb\" target=\"_parent\"><img src=\"https://colab.research.google.com/assets/colab-badge.svg\" alt=\"Open In Colab\"/></a>"
      ]
    },
    {
      "cell_type": "markdown",
      "metadata": {
        "id": "Lmh5ql-PUI_G"
      },
      "source": [
        "#Modularidad (Funciones)\n",
        "Una funcion es un unidad de codigo reutilizable, ademas de ser un mecanismo para organizar codigo.\n",
        "La gran ventaja de emplear funciones, es simplificar la programacion. \n",
        "###Estructura \n",
        "Una funcion puede tomar cualquier cantidad de parametros de entrados (cualquier)\n",
        "y retornar unicamente un solo valor. \n",
        "\n",
        "Un parametro de entrada es un valor que resive la funcion para realizar sus operaciones. \n",
        "\n",
        "Con una funcion se pueden hacer dos cosas:\n",
        "1. Definirla\n",
        "2. Invocarla (Ejecutarla)\n",
        "\n",
        "La gran ventaja de tener un funcion declara es que la podemos reutilizar cuando se desee\n"
      ]
    },
    {
      "cell_type": "code",
      "metadata": {
        "id": "SeJQQPwIUBZo"
      },
      "source": [
        "def sumar (op1,op2):\n",
        "    res = op1+op2\n",
        "    return res"
      ],
      "execution_count": 1,
      "outputs": []
    },
    {
      "cell_type": "code",
      "metadata": {
        "colab": {
          "base_uri": "https://localhost:8080/"
        },
        "id": "H3P_oQ6HYDz-",
        "outputId": "d7952069-b83c-4b59-cfe3-4e74401ad343"
      },
      "source": [
        "res = sumar (2,5)\n",
        "print(res)\n",
        "res = sumar(33, 22)\n",
        "print(res)"
      ],
      "execution_count": 4,
      "outputs": [
        {
          "output_type": "stream",
          "name": "stdout",
          "text": [
            "7\n",
            "55\n"
          ]
        }
      ]
    },
    {
      "cell_type": "code",
      "metadata": {
        "colab": {
          "base_uri": "https://localhost:8080/"
        },
        "id": "TsdDRVY1Z3We",
        "outputId": "1a7a8a46-45a6-4187-8618-583161d10e4f"
      },
      "source": [
        "print(\"Hola\",\"Victor\",sep=\"-\")"
      ],
      "execution_count": 5,
      "outputs": [
        {
          "output_type": "stream",
          "name": "stdout",
          "text": [
            "Hola-Victor\n"
          ]
        }
      ]
    },
    {
      "cell_type": "code",
      "metadata": {
        "colab": {
          "base_uri": "https://localhost:8080/"
        },
        "id": "whNb6CJNaSdL",
        "outputId": "628aea45-547c-4587-93d1-b4fb4f0f20c2"
      },
      "source": [
        "def imprime_cuadro():\n",
        "    print(\"****\")\n",
        "    print(\"****\")\n",
        "    print(\"****\")\n",
        "    print(\"****\")\n",
        "    #return None \n",
        "imprime_cuadro()"
      ],
      "execution_count": 8,
      "outputs": [
        {
          "output_type": "stream",
          "name": "stdout",
          "text": [
            "****\n",
            "****\n",
            "****\n",
            "****\n"
          ]
        }
      ]
    },
    {
      "cell_type": "markdown",
      "metadata": {
        "id": "Utg_gt8xa62c"
      },
      "source": [
        "#Valor de retorno de una funcion \n",
        "Regla de oro. Una funcion siempre retorna un sola funcion. Inclusive si ese valor es vacio "
      ]
    },
    {
      "cell_type": "code",
      "metadata": {
        "colab": {
          "base_uri": "https://localhost:8080/"
        },
        "id": "6lCHqflRbN2K",
        "outputId": "e92573cd-8968-475f-9c96-376459558bf9"
      },
      "source": [
        "#Invocar sumar \n",
        "res= sumar (7, 7)\n",
        "print(res)\n",
        "#Invocar la funcion pintar\n",
        "res= imprime_cuadro()\n",
        "print(res)"
      ],
      "execution_count": 9,
      "outputs": [
        {
          "output_type": "stream",
          "name": "stdout",
          "text": [
            "14\n",
            "****\n",
            "****\n",
            "****\n",
            "****\n",
            "None\n"
          ]
        }
      ]
    },
    {
      "cell_type": "markdown",
      "metadata": {
        "id": "OdiVqlDKdF76"
      },
      "source": [
        "#La palabra reservada None en python\n",
        "Esta palabra reservada significa vacio, equivalente a la palabra reservada void del lenguaje C++ y Java \n",
        "\n",
        "Se usa para indicar ya sea un return vacio o que se resive un parametro vacio. \n"
      ]
    },
    {
      "cell_type": "code",
      "metadata": {
        "id": "UkNt0Cf0d3sI"
      },
      "source": [
        "def multiplicar(valor, veces):\n",
        "    c=valor*veces \n",
        "    return c"
      ],
      "execution_count": 10,
      "outputs": []
    },
    {
      "cell_type": "code",
      "metadata": {
        "colab": {
          "base_uri": "https://localhost:8080/"
        },
        "id": "9YBi3W8ZeIzs",
        "outputId": "6978a95f-1962-49bc-ce46-996f42f5ef4d"
      },
      "source": [
        "res= multiplicar (5,5)\n",
        "print(res)"
      ],
      "execution_count": 12,
      "outputs": [
        {
          "output_type": "stream",
          "name": "stdout",
          "text": [
            "25\n"
          ]
        }
      ]
    },
    {
      "cell_type": "code",
      "metadata": {
        "id": "ZEpGCKuIetj2"
      },
      "source": [
        "def multiplicar(valor, veces):\n",
        "    if valor==None:\n",
        "        c=-1\n",
        "    else:\n",
        "        c=valor*veces \n",
        "    return c"
      ],
      "execution_count": 13,
      "outputs": []
    },
    {
      "cell_type": "code",
      "metadata": {
        "colab": {
          "base_uri": "https://localhost:8080/"
        },
        "id": "XPbQ75pae9-1",
        "outputId": "2f9ebdd6-6963-487b-8dc6-9a51c7ec4ffb"
      },
      "source": [
        "res= multiplicar (None,5)\n",
        "print(res)"
      ],
      "execution_count": 15,
      "outputs": [
        {
          "output_type": "stream",
          "name": "stdout",
          "text": [
            "-1\n"
          ]
        }
      ]
    },
    {
      "cell_type": "markdown",
      "metadata": {
        "id": "GcTACk2NfkXC"
      },
      "source": [
        "#Parametros y argumentos.\n",
        "Son conceptos relacionados y su diferencia esta centrada y el momento que se emplea en un funcion. \n",
        "Es decir, en la funcion de arriba cuando se declara se le llama parametro, y cuando se le invoca se llama argumento."
      ]
    },
    {
      "cell_type": "markdown",
      "metadata": {
        "id": "rJ7XK4TffZIm"
      },
      "source": [
        "#Argumentos posicionales\n",
        "En python es posible determinar a que parametros estan dirigidos los argumentos\n",
        "segun su posicion.\n"
      ]
    },
    {
      "cell_type": "code",
      "metadata": {
        "id": "5PNRkjpVgYta"
      },
      "source": [
        "def dividir(op1, op2):\n",
        "    c= op1/op2\n",
        "    return c"
      ],
      "execution_count": 16,
      "outputs": []
    },
    {
      "cell_type": "code",
      "metadata": {
        "colab": {
          "base_uri": "https://localhost:8080/"
        },
        "id": "SedmlMaDg2wM",
        "outputId": "b6477189-e2e2-43ac-cb10-f3367e9f5ae0"
      },
      "source": [
        "num1= 25 \n",
        "num2= 5\n",
        "res = dividir(num1, num2)\n",
        "print(res)\n",
        "res = dividir(num2, num1)\n",
        "print(res)"
      ],
      "execution_count": 18,
      "outputs": [
        {
          "output_type": "stream",
          "name": "stdout",
          "text": [
            "5.0\n",
            "0.2\n"
          ]
        }
      ]
    },
    {
      "cell_type": "markdown",
      "metadata": {
        "id": "sGk3mIi7hTqW"
      },
      "source": [
        "#Argumentos con palabras clave (keywords)\n",
        "Es la posibilidad de indicarle a la funcion \n",
        "en tiempo de ejecucion a que parametro va dirigido un arguemento de entrada.\n",
        "Solo disponible en python"
      ]
    },
    {
      "cell_type": "code",
      "metadata": {
        "colab": {
          "base_uri": "https://localhost:8080/"
        },
        "id": "MMtfal4hhsbV",
        "outputId": "dadc05be-f0bc-415d-9660-6c26657ff919"
      },
      "source": [
        "res = dividir(op2=num2, op1=num1) #Podemos asigrnale a que op se va a ir \n",
        "print(res)"
      ],
      "execution_count": 19,
      "outputs": [
        {
          "output_type": "stream",
          "name": "stdout",
          "text": [
            "5.0\n"
          ]
        }
      ]
    }
  ]
}