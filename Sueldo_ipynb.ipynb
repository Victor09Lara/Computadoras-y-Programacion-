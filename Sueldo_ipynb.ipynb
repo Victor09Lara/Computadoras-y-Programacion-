{
  "nbformat": 4,
  "nbformat_minor": 0,
  "metadata": {
    "colab": {
      "name": "Sueldo. ipynb",
      "provenance": [],
      "authorship_tag": "ABX9TyPwxUAfktnXp6uAZ1ov/APJ",
      "include_colab_link": true
    },
    "kernelspec": {
      "name": "python3",
      "display_name": "Python 3"
    },
    "language_info": {
      "name": "python"
    }
  },
  "cells": [
    {
      "cell_type": "markdown",
      "metadata": {
        "id": "view-in-github",
        "colab_type": "text"
      },
      "source": [
        "<a href=\"https://colab.research.google.com/github/Victor09Lara/Computadoras-y-Programacion-/blob/main/Sueldo_ipynb.ipynb\" target=\"_parent\"><img src=\"https://colab.research.google.com/assets/colab-badge.svg\" alt=\"Open In Colab\"/></a>"
      ]
    },
    {
      "cell_type": "code",
      "execution_count": null,
      "metadata": {
        "id": "ZaBWVUb84Oo6"
      },
      "outputs": [],
      "source": [
        "#include <stdio.h>\n",
        "\n",
        "int main()\n",
        "{\n",
        "   printf(\"\\tSueldo de un trabajador\\n\\n\");\n",
        "   \n",
        "   printf(\"\\tIngresa el numero de horas trabajadas: 1 - $150.0, 2 - $300.00, 3 - $450.00, 4 - $600.00, 5 - $750.00\\n\\n\");\n",
        "   char horas ='\\0';\n",
        "   scanf(\"%c\",&horas);\n",
        "   \n",
        "   float descuento = 150-(9.35*150/100);\n",
        "   float incremento = descuento+(2*150/100);\n",
        "   \n",
        "   float descuento2 = 300-(9.35*300/100);\n",
        "   float incremento2 = descuento2+(2*300/100);\n",
        "   \n",
        "   float descuento3 = 450-(9.35*450100);\n",
        "   float incremento3 = descuento3+(2*450/100);\n",
        "   \n",
        "   float descuento4 = 600-(9.35*600/100);\n",
        "   float incremento4 = descuento4+(2*600/100)+150;\n",
        "   \n",
        "   float descuento5 = 750-(9.35*750/100);\n",
        "   float incremento5 = descuento5+(2*750/100)+150;\n",
        "   \n",
        "   switch (horas)\n",
        "   {\n",
        "       case '1':\n",
        "           printf(\"Tu sueldo es:%f\",incremento);\n",
        "           break;\n",
        "       case '2':\n",
        "           printf(\"Tu sueldo es:%f\",incremento2);\n",
        "           break;\n",
        "       case '3':\n",
        "           printf(\"Tu sueldo es:%f\",incremento3);\n",
        "           break;\n",
        "       case '4':\n",
        "           printf(\"Tu sueldo es:%f\",incremento4);\n",
        "           break;\n",
        "       case '5':\n",
        "           printf(\"Tu sueldo es:%f\",incremento5);\n",
        "           break;\n",
        "       default:\n",
        "           printf(\"Opcion no valida\");\n",
        "           break;\n",
        "   }\n",
        "\n",
        "}"
      ]
    }
  ]
}