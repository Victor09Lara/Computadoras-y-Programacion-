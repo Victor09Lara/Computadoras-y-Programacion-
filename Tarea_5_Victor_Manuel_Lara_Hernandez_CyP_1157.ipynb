{
  "nbformat": 4,
  "nbformat_minor": 0,
  "metadata": {
    "colab": {
      "name": "Tarea 5 - Victor Manuel Lara Hernandez - CyP - 1157.ipynb",
      "provenance": [],
      "authorship_tag": "ABX9TyMArnQkbV9dLCnlUEv5Mft/",
      "include_colab_link": true
    },
    "kernelspec": {
      "name": "python3",
      "display_name": "Python 3"
    },
    "language_info": {
      "name": "python"
    }
  },
  "cells": [
    {
      "cell_type": "markdown",
      "metadata": {
        "id": "view-in-github",
        "colab_type": "text"
      },
      "source": [
        "<a href=\"https://colab.research.google.com/github/Victor09Lara/Computadoras-y-Programacion-/blob/main/Tarea_5_Victor_Manuel_Lara_Hernandez_CyP_1157.ipynb\" target=\"_parent\"><img src=\"https://colab.research.google.com/assets/colab-badge.svg\" alt=\"Open In Colab\"/></a>"
      ]
    },
    {
      "cell_type": "markdown",
      "metadata": {
        "id": "9PIbsb8Z6PKa"
      },
      "source": [
        "#Hacer un programa que pida dos números enteros y que imprima en pantalla lo siguiente:\n",
        "\n",
        "\n",
        "- ¿Cuál de ellos es el número mayor?\n",
        "- ¿Cuál de ellos es el número menor?\n",
        "- O en su defecto\n",
        "¿Imprimir que los valores son iguales?"
      ]
    },
    {
      "cell_type": "code",
      "metadata": {
        "colab": {
          "base_uri": "https://localhost:8080/"
        },
        "id": "qb9Xf9hN6M9E",
        "outputId": "ea23801f-df26-4403-d6aa-c47d8c554da6"
      },
      "source": [
        "print(\"Mayor, menor o igual. Teclea dos numeros enteros para verificar si alguno de ellos es mayor, menor o igual\\n\")\n",
        "\n",
        "num1=int(input(\"Teclea un primer numero entero: \"))\n",
        "num2=int(input(\"Teclea un segundo numero entero: \"))\n",
        "\n",
        "if num1>num2: \n",
        "    print(f\"{num1} es mayor que {num2}\")\n",
        "else:\n",
        "    if num1<num2:\n",
        "        print(f\"{num1} es menor que {num2}\")\n",
        "    else:\n",
        "        if num1==num2:\n",
        "            print(f\"{num1} y {num2} son numero enteros iguales\")\n"
      ],
      "execution_count": 62,
      "outputs": [
        {
          "output_type": "stream",
          "name": "stdout",
          "text": [
            "Mayor, menor o igual. Teclea dos numeros enteros para verificar si alguno de ellos es mayor, menor o igual\n",
            "\n",
            "Teclea un primer numero entero: 67\n",
            "Teclea un segundo numero entero: 67\n",
            "67 y 67 son numero enteros iguales\n"
          ]
        }
      ]
    },
    {
      "cell_type": "markdown",
      "metadata": {
        "id": "Vv5vVUflGbxA"
      },
      "source": [
        "#Hacer un programa que solicite 3 números enteros diferentes entre sí y que imprima cuál de los 3 es el mayor"
      ]
    },
    {
      "cell_type": "code",
      "metadata": {
        "colab": {
          "base_uri": "https://localhost:8080/"
        },
        "id": "Ee-DP2t6GgA4",
        "outputId": "a3d7794f-b73a-486d-9068-66463eaa2e16"
      },
      "source": [
        "print(\"¿Cuales es mayor? Teclea tres numeros enteros diferentes para verificar si alguno de ellos es mayor\\n\")\n",
        "\n",
        "num1=int(input(\"Teclea un primer numero entero: \"))\n",
        "num2=int(input(\"Teclea un segundo numero entero: \"))\n",
        "num3=int(input(\"Teclea un tercer numero entero: \"))\n",
        "\n",
        "if num1>num2 and num2>num3 and num1>num3:\n",
        "    print(f\"{num1} es mayor\")\n",
        "else: \n",
        "    if num1>num2 and num2<num3 and num1>num3:\n",
        "        print(f\"{num1} es mayor\")\n",
        "    else: \n",
        "        if num1<num2 and num2>num3 and num1<num3:\n",
        "            print(f\"{num2} es mayor\")\n",
        "        else: \n",
        "            if num1<num2 and num2>num3 and num1>num3:\n",
        "                print(f\"{num2} es mayor\")\n",
        "            else:     \n",
        "                if num1<num2 and num2<num3 and num1<num3:\n",
        "                    print(f\"{num3} es mayor\")\n",
        "                else: \n",
        "                    if num1>num2 and num2<num3 and num1<num3:\n",
        "                        print(f\"{num3} es mayor\")"
      ],
      "execution_count": 94,
      "outputs": [
        {
          "output_type": "stream",
          "name": "stdout",
          "text": [
            "¿Cuale es mayor? Teclea tres numeros enteros diferentes para verificar si alguno de ellos es mayor\n",
            "\n",
            "Teclea un primer numero entero: 145\n",
            "Teclea un segundo numero entero: 39\n",
            "Teclea un tercer numero entero: 80\n",
            "145 es mayor\n"
          ]
        }
      ]
    },
    {
      "cell_type": "markdown",
      "metadata": {
        "id": "F_sVmeWAOvNN"
      },
      "source": [
        "#Hacer un programa que solicite 3 números enteros diferentes entre sí y que imprima cuál de los 3 es el menor"
      ]
    },
    {
      "cell_type": "code",
      "metadata": {
        "colab": {
          "base_uri": "https://localhost:8080/"
        },
        "id": "yvoUf8ulO1uY",
        "outputId": "0753fac8-9417-4a5c-9d58-c2747f298ecc"
      },
      "source": [
        "print(\"¿Cuales es menor? Teclea tres numeros enteros diferentes para verificar si alguno de ellos es menor\\n\")\n",
        "\n",
        "num1=int(input(\"Teclea un primer numero entero: \"))\n",
        "num2=int(input(\"Teclea un segundo numero entero: \"))\n",
        "num3=int(input(\"Teclea un tercer numero entero: \"))\n",
        "\n",
        "if num1<num2 and num2<num3 and num1<num3:\n",
        "    print(f\"{num1} es menor \")\n",
        "else: \n",
        "    if num1<num2 and num2>num3 and num1<num3:\n",
        "        print(f\"{num1} es menor\")\n",
        "    else: \n",
        "        if num1>num2 and num2<num3 and num1>num3:\n",
        "            print(f\"{num2} es menor\")\n",
        "        else: \n",
        "            if num1>num2 and num2<num3 and num1<num3:\n",
        "                print(f\"{num2} es menor\")\n",
        "            else:     \n",
        "                if num1>num2 and num2>num3 and num1>num3:\n",
        "                    print(f\"{num3} es menor\")\n",
        "                else: \n",
        "                    if num1<num2 and num2>num3 and num1>num3:\n",
        "                        print(f\"{num3} es menor\")"
      ],
      "execution_count": 63,
      "outputs": [
        {
          "output_type": "stream",
          "name": "stdout",
          "text": [
            "¿Cuale es menor? Teclea tres numeros enteros diferentes para verificar si alguno de ellos es menor\n",
            "\n",
            "Teclea un primer numero entero: 78\n",
            "Teclea un segundo numero entero: 89\n",
            "Teclea un tercer numero entero: 67\n",
            "67 es menor\n"
          ]
        }
      ]
    },
    {
      "cell_type": "markdown",
      "metadata": {
        "id": "wRoqJUdSSR_1"
      },
      "source": [
        "#Hacer un programa que solicite 4 números enteros diferentes entre sí y que imprima a la salida cuál de ellos es el menor y cuál de ellos es el mayor"
      ]
    },
    {
      "cell_type": "code",
      "metadata": {
        "colab": {
          "base_uri": "https://localhost:8080/"
        },
        "id": "URBI2LItPUxI",
        "outputId": "bd73b8f1-ff05-4384-9627-1c7ff111b977"
      },
      "source": [
        "print(\"Mayor y menor. Teclea cuatro numeros enteros para verificar cual de ellos es mayor y menor \\n\")\n",
        "\n",
        "num1=int(input(\"Teclea un primer numero entero: \"))\n",
        "num2=int(input(\"Teclea un segundo numero entero: \"))\n",
        "num3=int(input(\"Teclea un tercer numero entero: \"))\n",
        "num4=int(input(\"Teclea un cuarto numero entero: \"))\n",
        "\n",
        "if num2<num1>num3>num4:\n",
        "    print(f\"{num1} es el numero mayor\")\n",
        "else: \n",
        "    if num1<num2>num3>num4: \n",
        "        print(f\"{num2} es el numero mayor\")\n",
        "    else:\n",
        "        if num1<num3>num2>num4:\n",
        "            print(f\"{num3} es el numero mayor\")\n",
        "        else: \n",
        "            if num1<num4>num3>num2:\n",
        "                print(f\"{num4} es el numero mayor\")\n",
        "\n",
        "if num2>num1<num3<num4:\n",
        "    print(f\"{num1} es el numero menor\")\n",
        "else: \n",
        "    if num1>num2<num3<num4 and num2: \n",
        "        print(f\"{num2} es el numero  menor\")\n",
        "    else:\n",
        "        if num1>num3<num2<num4:\n",
        "                print(f\"{num3} es el numero menor\")\n",
        "        else:\n",
        "            if num1>num4<num3<num2:\n",
        "                print(f\"{num4} es el numero menor\")"
      ],
      "execution_count": 157,
      "outputs": [
        {
          "output_type": "stream",
          "name": "stdout",
          "text": [
            "Mayor y menor. Teclea cuatro numeros enteros para verificar cual de ellos es mayor y menor \n",
            "\n",
            "Teclea un primer numero entero: 24\n",
            "Teclea un segundo numero entero: 56\n",
            "Teclea un tercer numero entero: 12\n",
            "Teclea un cuarto numero entero: 11\n",
            "56 es el numero mayor\n",
            "11 es el numero menor\n"
          ]
        }
      ]
    }
  ]
}